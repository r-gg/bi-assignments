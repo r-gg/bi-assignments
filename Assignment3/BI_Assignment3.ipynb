{
 "cells": [
  {
   "cell_type": "markdown",
   "metadata": {
    "id": "T-9w0zW87J6c"
   },
   "source": [
    "# BI Assignment 3\n"
   ]
  },
  {
   "cell_type": "markdown",
   "metadata": {
    "id": "Tb6EW9gmIBMz"
   },
   "source": [
    "### Prerequisites"
   ]
  },
  {
   "cell_type": "code",
   "execution_count": 1,
   "metadata": {
    "colab": {
     "base_uri": "https://localhost:8080/"
    },
    "id": "fVm5Fcx0_CXt",
    "outputId": "92919def-dca8-451d-8b78-ceadaa2d801e"
   },
   "outputs": [],
   "source": [
    "isRunOnColab = False\n",
    "if(isRunOnColab):\n",
    "    from google.colab import drive\n",
    "    drive.mount('/content/drive')"
   ]
  },
  {
   "cell_type": "code",
   "execution_count": 2,
   "metadata": {
    "id": "7O-7EX517A22"
   },
   "outputs": [],
   "source": [
    "import nltk\n",
    "# nltk.download('wordnet')\n",
    "import numpy as np\n",
    "import pandas as pd\n",
    "import matplotlib.pyplot as plt\n",
    "import seaborn as sns\n",
    "# from pandas_profiling import ProfileReport"
   ]
  },
  {
   "cell_type": "code",
   "execution_count": 3,
   "metadata": {
    "colab": {
     "base_uri": "https://localhost:8080/"
    },
    "id": "p_YscBryjJYY",
    "outputId": "fad94960-ba90-4aff-bb48-c93fe1d3c677"
   },
   "outputs": [
    {
     "data": {
      "text/plain": [
       "['Solarize_Light2',\n",
       " '_classic_test_patch',\n",
       " 'bmh',\n",
       " 'classic',\n",
       " 'dark_background',\n",
       " 'fast',\n",
       " 'fivethirtyeight',\n",
       " 'ggplot',\n",
       " 'grayscale',\n",
       " 'seaborn',\n",
       " 'seaborn-bright',\n",
       " 'seaborn-colorblind',\n",
       " 'seaborn-dark',\n",
       " 'seaborn-dark-palette',\n",
       " 'seaborn-darkgrid',\n",
       " 'seaborn-deep',\n",
       " 'seaborn-muted',\n",
       " 'seaborn-notebook',\n",
       " 'seaborn-paper',\n",
       " 'seaborn-pastel',\n",
       " 'seaborn-poster',\n",
       " 'seaborn-talk',\n",
       " 'seaborn-ticks',\n",
       " 'seaborn-white',\n",
       " 'seaborn-whitegrid',\n",
       " 'tableau-colorblind10']"
      ]
     },
     "execution_count": 3,
     "metadata": {},
     "output_type": "execute_result"
    }
   ],
   "source": [
    "plt.style.available"
   ]
  },
  {
   "cell_type": "code",
   "execution_count": 4,
   "metadata": {
    "id": "GAlVWoNujYUV"
   },
   "outputs": [],
   "source": [
    "plt.style.use('seaborn-muted')"
   ]
  },
  {
   "cell_type": "markdown",
   "metadata": {
    "id": "eITOUtxfIGxp"
   },
   "source": [
    "### Reading the data and exploration"
   ]
  },
  {
   "cell_type": "code",
   "execution_count": 5,
   "metadata": {
    "id": "ztjDTuLaCFXc"
   },
   "outputs": [],
   "source": [
    "path_to_file = ''\n",
    "if(isRunOnColab):\n",
    "    path_to_file = 'drive/MyDrive/bi_assignments/data/it_courses_udemy.csv'\n",
    "else:\n",
    "    path_to_file = 'it_courses_udemy.csv'\n",
    "df = pd.read_csv(path_to_file)"
   ]
  },
  {
   "cell_type": "code",
   "execution_count": 6,
   "metadata": {
    "colab": {
     "base_uri": "https://localhost:8080/",
     "height": 582
    },
    "id": "tMYlrMp-Rb51",
    "outputId": "f39bd3b0-9ba9-4c75-ba03-3427e5c53678"
   },
   "outputs": [
    {
     "data": {
      "text/html": [
       "<div>\n",
       "<style scoped>\n",
       "    .dataframe tbody tr th:only-of-type {\n",
       "        vertical-align: middle;\n",
       "    }\n",
       "\n",
       "    .dataframe tbody tr th {\n",
       "        vertical-align: top;\n",
       "    }\n",
       "\n",
       "    .dataframe thead th {\n",
       "        text-align: right;\n",
       "    }\n",
       "</style>\n",
       "<table border=\"1\" class=\"dataframe\">\n",
       "  <thead>\n",
       "    <tr style=\"text-align: right;\">\n",
       "      <th></th>\n",
       "      <th>id</th>\n",
       "      <th>title</th>\n",
       "      <th>url</th>\n",
       "      <th>is_paid</th>\n",
       "      <th>num_subscribers</th>\n",
       "      <th>avg_rating</th>\n",
       "      <th>avg_rating_recent</th>\n",
       "      <th>rating</th>\n",
       "      <th>num_reviews</th>\n",
       "      <th>is_wishlisted</th>\n",
       "      <th>num_published_lectures</th>\n",
       "      <th>num_published_practice_tests</th>\n",
       "      <th>created</th>\n",
       "      <th>published_time</th>\n",
       "      <th>discount_price__amount</th>\n",
       "      <th>discount_price__currency</th>\n",
       "      <th>discount_price__price_string</th>\n",
       "      <th>price_detail__amount</th>\n",
       "      <th>price_detail__currency</th>\n",
       "      <th>price_detail__price_string</th>\n",
       "    </tr>\n",
       "  </thead>\n",
       "  <tbody>\n",
       "    <tr>\n",
       "      <th>0</th>\n",
       "      <td>762616</td>\n",
       "      <td>The Complete SQL Bootcamp 2020: Go from Zero t...</td>\n",
       "      <td>/course/the-complete-sql-bootcamp/</td>\n",
       "      <td>True</td>\n",
       "      <td>295509</td>\n",
       "      <td>4.66019</td>\n",
       "      <td>4.67874</td>\n",
       "      <td>4.67874</td>\n",
       "      <td>78006</td>\n",
       "      <td>False</td>\n",
       "      <td>84</td>\n",
       "      <td>0</td>\n",
       "      <td>2016-02-14T22:57:48Z</td>\n",
       "      <td>2016-04-06T05:16:11Z</td>\n",
       "      <td>455.0</td>\n",
       "      <td>INR</td>\n",
       "      <td>₹455</td>\n",
       "      <td>8640.0</td>\n",
       "      <td>INR</td>\n",
       "      <td>₹8,640</td>\n",
       "    </tr>\n",
       "    <tr>\n",
       "      <th>1</th>\n",
       "      <td>937678</td>\n",
       "      <td>Tableau 2020 A-Z: Hands-On Tableau Training fo...</td>\n",
       "      <td>/course/tableau10/</td>\n",
       "      <td>True</td>\n",
       "      <td>209070</td>\n",
       "      <td>4.58956</td>\n",
       "      <td>4.60015</td>\n",
       "      <td>4.60015</td>\n",
       "      <td>54581</td>\n",
       "      <td>False</td>\n",
       "      <td>78</td>\n",
       "      <td>0</td>\n",
       "      <td>2016-08-22T12:10:18Z</td>\n",
       "      <td>2016-08-23T16:59:49Z</td>\n",
       "      <td>455.0</td>\n",
       "      <td>INR</td>\n",
       "      <td>₹455</td>\n",
       "      <td>8640.0</td>\n",
       "      <td>INR</td>\n",
       "      <td>₹8,640</td>\n",
       "    </tr>\n",
       "    <tr>\n",
       "      <th>2</th>\n",
       "      <td>1361790</td>\n",
       "      <td>PMP Exam Prep Seminar -  PMBOK Guide 6</td>\n",
       "      <td>/course/pmp-pmbok6-35-pdus/</td>\n",
       "      <td>True</td>\n",
       "      <td>155282</td>\n",
       "      <td>4.59491</td>\n",
       "      <td>4.59326</td>\n",
       "      <td>4.59326</td>\n",
       "      <td>52653</td>\n",
       "      <td>False</td>\n",
       "      <td>292</td>\n",
       "      <td>2</td>\n",
       "      <td>2017-09-26T16:32:48Z</td>\n",
       "      <td>2017-11-14T23:58:14Z</td>\n",
       "      <td>455.0</td>\n",
       "      <td>INR</td>\n",
       "      <td>₹455</td>\n",
       "      <td>8640.0</td>\n",
       "      <td>INR</td>\n",
       "      <td>₹8,640</td>\n",
       "    </tr>\n",
       "    <tr>\n",
       "      <th>3</th>\n",
       "      <td>648826</td>\n",
       "      <td>The Complete Financial Analyst Course 2020</td>\n",
       "      <td>/course/the-complete-financial-analyst-course/</td>\n",
       "      <td>True</td>\n",
       "      <td>245860</td>\n",
       "      <td>4.54407</td>\n",
       "      <td>4.53772</td>\n",
       "      <td>4.53772</td>\n",
       "      <td>46447</td>\n",
       "      <td>False</td>\n",
       "      <td>338</td>\n",
       "      <td>0</td>\n",
       "      <td>2015-10-23T13:34:35Z</td>\n",
       "      <td>2016-01-21T01:38:48Z</td>\n",
       "      <td>455.0</td>\n",
       "      <td>INR</td>\n",
       "      <td>₹455</td>\n",
       "      <td>8640.0</td>\n",
       "      <td>INR</td>\n",
       "      <td>₹8,640</td>\n",
       "    </tr>\n",
       "    <tr>\n",
       "      <th>4</th>\n",
       "      <td>637930</td>\n",
       "      <td>An Entire MBA in 1 Course:Award Winning Busine...</td>\n",
       "      <td>/course/an-entire-mba-in-1-courseaward-winning...</td>\n",
       "      <td>True</td>\n",
       "      <td>374836</td>\n",
       "      <td>4.47080</td>\n",
       "      <td>4.47173</td>\n",
       "      <td>4.47173</td>\n",
       "      <td>41630</td>\n",
       "      <td>False</td>\n",
       "      <td>83</td>\n",
       "      <td>0</td>\n",
       "      <td>2015-10-12T06:39:46Z</td>\n",
       "      <td>2016-01-11T21:39:33Z</td>\n",
       "      <td>455.0</td>\n",
       "      <td>INR</td>\n",
       "      <td>₹455</td>\n",
       "      <td>8640.0</td>\n",
       "      <td>INR</td>\n",
       "      <td>₹8,640</td>\n",
       "    </tr>\n",
       "  </tbody>\n",
       "</table>\n",
       "</div>"
      ],
      "text/plain": [
       "        id                                              title  \\\n",
       "0   762616  The Complete SQL Bootcamp 2020: Go from Zero t...   \n",
       "1   937678  Tableau 2020 A-Z: Hands-On Tableau Training fo...   \n",
       "2  1361790             PMP Exam Prep Seminar -  PMBOK Guide 6   \n",
       "3   648826         The Complete Financial Analyst Course 2020   \n",
       "4   637930  An Entire MBA in 1 Course:Award Winning Busine...   \n",
       "\n",
       "                                                 url  is_paid  \\\n",
       "0                 /course/the-complete-sql-bootcamp/     True   \n",
       "1                                 /course/tableau10/     True   \n",
       "2                        /course/pmp-pmbok6-35-pdus/     True   \n",
       "3     /course/the-complete-financial-analyst-course/     True   \n",
       "4  /course/an-entire-mba-in-1-courseaward-winning...     True   \n",
       "\n",
       "   num_subscribers  avg_rating  avg_rating_recent   rating  num_reviews  \\\n",
       "0           295509     4.66019            4.67874  4.67874        78006   \n",
       "1           209070     4.58956            4.60015  4.60015        54581   \n",
       "2           155282     4.59491            4.59326  4.59326        52653   \n",
       "3           245860     4.54407            4.53772  4.53772        46447   \n",
       "4           374836     4.47080            4.47173  4.47173        41630   \n",
       "\n",
       "   is_wishlisted  num_published_lectures  num_published_practice_tests  \\\n",
       "0          False                      84                             0   \n",
       "1          False                      78                             0   \n",
       "2          False                     292                             2   \n",
       "3          False                     338                             0   \n",
       "4          False                      83                             0   \n",
       "\n",
       "                created        published_time  discount_price__amount  \\\n",
       "0  2016-02-14T22:57:48Z  2016-04-06T05:16:11Z                   455.0   \n",
       "1  2016-08-22T12:10:18Z  2016-08-23T16:59:49Z                   455.0   \n",
       "2  2017-09-26T16:32:48Z  2017-11-14T23:58:14Z                   455.0   \n",
       "3  2015-10-23T13:34:35Z  2016-01-21T01:38:48Z                   455.0   \n",
       "4  2015-10-12T06:39:46Z  2016-01-11T21:39:33Z                   455.0   \n",
       "\n",
       "  discount_price__currency discount_price__price_string  price_detail__amount  \\\n",
       "0                      INR                         ₹455                8640.0   \n",
       "1                      INR                         ₹455                8640.0   \n",
       "2                      INR                         ₹455                8640.0   \n",
       "3                      INR                         ₹455                8640.0   \n",
       "4                      INR                         ₹455                8640.0   \n",
       "\n",
       "  price_detail__currency price_detail__price_string  \n",
       "0                    INR                     ₹8,640  \n",
       "1                    INR                     ₹8,640  \n",
       "2                    INR                     ₹8,640  \n",
       "3                    INR                     ₹8,640  \n",
       "4                    INR                     ₹8,640  "
      ]
     },
     "execution_count": 6,
     "metadata": {},
     "output_type": "execute_result"
    }
   ],
   "source": [
    "df.head()"
   ]
  },
  {
   "cell_type": "code",
   "execution_count": 7,
   "metadata": {
    "colab": {
     "base_uri": "https://localhost:8080/"
    },
    "id": "c9Nvwe5W-IVz",
    "outputId": "3980ad2a-6773-423c-8fcf-8ce3ffbad01f"
   },
   "outputs": [
    {
     "name": "stdout",
     "output_type": "stream",
     "text": [
      "<class 'pandas.core.frame.DataFrame'>\n",
      "RangeIndex: 22853 entries, 0 to 22852\n",
      "Data columns (total 20 columns):\n",
      " #   Column                        Non-Null Count  Dtype  \n",
      "---  ------                        --------------  -----  \n",
      " 0   id                            22853 non-null  int64  \n",
      " 1   title                         22853 non-null  object \n",
      " 2   url                           22853 non-null  object \n",
      " 3   is_paid                       22853 non-null  bool   \n",
      " 4   num_subscribers               22853 non-null  int64  \n",
      " 5   avg_rating                    22853 non-null  float64\n",
      " 6   avg_rating_recent             22853 non-null  float64\n",
      " 7   rating                        22853 non-null  float64\n",
      " 8   num_reviews                   22853 non-null  int64  \n",
      " 9   is_wishlisted                 22853 non-null  bool   \n",
      " 10  num_published_lectures        22853 non-null  int64  \n",
      " 11  num_published_practice_tests  22853 non-null  int64  \n",
      " 12  created                       22853 non-null  object \n",
      " 13  published_time                22853 non-null  object \n",
      " 14  discount_price__amount        21024 non-null  float64\n",
      " 15  discount_price__currency      21024 non-null  object \n",
      " 16  discount_price__price_string  21024 non-null  object \n",
      " 17  price_detail__amount          22356 non-null  float64\n",
      " 18  price_detail__currency        22356 non-null  object \n",
      " 19  price_detail__price_string    22356 non-null  object \n",
      "dtypes: bool(2), float64(5), int64(5), object(8)\n",
      "memory usage: 3.2+ MB\n"
     ]
    }
   ],
   "source": [
    "df.info()"
   ]
  },
  {
   "cell_type": "code",
   "execution_count": 8,
   "metadata": {
    "colab": {
     "base_uri": "https://localhost:8080/"
    },
    "id": "9eQYekJF_Z7T",
    "outputId": "3ea74baf-e000-47d3-da28-a04d8b4cb839"
   },
   "outputs": [
    {
     "data": {
      "text/plain": [
       "(22853, 20)"
      ]
     },
     "execution_count": 8,
     "metadata": {},
     "output_type": "execute_result"
    }
   ],
   "source": [
    "df.shape"
   ]
  },
  {
   "cell_type": "code",
   "execution_count": 9,
   "metadata": {
    "colab": {
     "base_uri": "https://localhost:8080/",
     "height": 427
    },
    "id": "Nav2KGpW_fL-",
    "outputId": "ba218c1a-ce15-4d8f-992d-f299b385f44b"
   },
   "outputs": [
    {
     "data": {
      "text/html": [
       "<div>\n",
       "<style scoped>\n",
       "    .dataframe tbody tr th:only-of-type {\n",
       "        vertical-align: middle;\n",
       "    }\n",
       "\n",
       "    .dataframe tbody tr th {\n",
       "        vertical-align: top;\n",
       "    }\n",
       "\n",
       "    .dataframe thead th {\n",
       "        text-align: right;\n",
       "    }\n",
       "</style>\n",
       "<table border=\"1\" class=\"dataframe\">\n",
       "  <thead>\n",
       "    <tr style=\"text-align: right;\">\n",
       "      <th></th>\n",
       "      <th>count</th>\n",
       "      <th>mean</th>\n",
       "      <th>std</th>\n",
       "      <th>min</th>\n",
       "      <th>25%</th>\n",
       "      <th>50%</th>\n",
       "      <th>75%</th>\n",
       "      <th>max</th>\n",
       "    </tr>\n",
       "  </thead>\n",
       "  <tbody>\n",
       "    <tr>\n",
       "      <th>id</th>\n",
       "      <td>22853.0</td>\n",
       "      <td>1.818466e+06</td>\n",
       "      <td>927352.464985</td>\n",
       "      <td>2762.0</td>\n",
       "      <td>1.090694e+06</td>\n",
       "      <td>1.824268e+06</td>\n",
       "      <td>2.604580e+06</td>\n",
       "      <td>3486006.0</td>\n",
       "    </tr>\n",
       "    <tr>\n",
       "      <th>num_subscribers</th>\n",
       "      <td>22853.0</td>\n",
       "      <td>3.205448e+03</td>\n",
       "      <td>11051.296472</td>\n",
       "      <td>0.0</td>\n",
       "      <td>7.600000e+01</td>\n",
       "      <td>5.590000e+02</td>\n",
       "      <td>2.483000e+03</td>\n",
       "      <td>564444.0</td>\n",
       "    </tr>\n",
       "    <tr>\n",
       "      <th>avg_rating</th>\n",
       "      <td>22853.0</td>\n",
       "      <td>3.952356e+00</td>\n",
       "      <td>0.875152</td>\n",
       "      <td>0.0</td>\n",
       "      <td>3.750000e+00</td>\n",
       "      <td>4.150000e+00</td>\n",
       "      <td>4.435480e+00</td>\n",
       "      <td>5.0</td>\n",
       "    </tr>\n",
       "    <tr>\n",
       "      <th>avg_rating_recent</th>\n",
       "      <td>22853.0</td>\n",
       "      <td>3.937739e+00</td>\n",
       "      <td>0.888605</td>\n",
       "      <td>0.0</td>\n",
       "      <td>3.732460e+00</td>\n",
       "      <td>4.148680e+00</td>\n",
       "      <td>4.433520e+00</td>\n",
       "      <td>5.0</td>\n",
       "    </tr>\n",
       "    <tr>\n",
       "      <th>rating</th>\n",
       "      <td>22853.0</td>\n",
       "      <td>3.937739e+00</td>\n",
       "      <td>0.888605</td>\n",
       "      <td>0.0</td>\n",
       "      <td>3.732460e+00</td>\n",
       "      <td>4.148680e+00</td>\n",
       "      <td>4.433520e+00</td>\n",
       "      <td>5.0</td>\n",
       "    </tr>\n",
       "    <tr>\n",
       "      <th>num_reviews</th>\n",
       "      <td>22853.0</td>\n",
       "      <td>2.702776e+02</td>\n",
       "      <td>2048.788093</td>\n",
       "      <td>0.0</td>\n",
       "      <td>8.000000e+00</td>\n",
       "      <td>2.700000e+01</td>\n",
       "      <td>9.800000e+01</td>\n",
       "      <td>188941.0</td>\n",
       "    </tr>\n",
       "    <tr>\n",
       "      <th>num_published_lectures</th>\n",
       "      <td>22853.0</td>\n",
       "      <td>3.491721e+01</td>\n",
       "      <td>48.652820</td>\n",
       "      <td>0.0</td>\n",
       "      <td>1.100000e+01</td>\n",
       "      <td>2.200000e+01</td>\n",
       "      <td>4.100000e+01</td>\n",
       "      <td>699.0</td>\n",
       "    </tr>\n",
       "    <tr>\n",
       "      <th>num_published_practice_tests</th>\n",
       "      <td>22853.0</td>\n",
       "      <td>3.752243e-01</td>\n",
       "      <td>1.160939</td>\n",
       "      <td>0.0</td>\n",
       "      <td>0.000000e+00</td>\n",
       "      <td>0.000000e+00</td>\n",
       "      <td>0.000000e+00</td>\n",
       "      <td>6.0</td>\n",
       "    </tr>\n",
       "    <tr>\n",
       "      <th>discount_price__amount</th>\n",
       "      <td>21024.0</td>\n",
       "      <td>4.862661e+02</td>\n",
       "      <td>234.100393</td>\n",
       "      <td>455.0</td>\n",
       "      <td>4.550000e+02</td>\n",
       "      <td>4.550000e+02</td>\n",
       "      <td>4.550000e+02</td>\n",
       "      <td>3200.0</td>\n",
       "    </tr>\n",
       "    <tr>\n",
       "      <th>price_detail__amount</th>\n",
       "      <td>22356.0</td>\n",
       "      <td>4.445518e+03</td>\n",
       "      <td>3098.531678</td>\n",
       "      <td>1280.0</td>\n",
       "      <td>1.280000e+03</td>\n",
       "      <td>3.200000e+03</td>\n",
       "      <td>8.640000e+03</td>\n",
       "      <td>12800.0</td>\n",
       "    </tr>\n",
       "  </tbody>\n",
       "</table>\n",
       "</div>"
      ],
      "text/plain": [
       "                                count          mean            std     min  \\\n",
       "id                            22853.0  1.818466e+06  927352.464985  2762.0   \n",
       "num_subscribers               22853.0  3.205448e+03   11051.296472     0.0   \n",
       "avg_rating                    22853.0  3.952356e+00       0.875152     0.0   \n",
       "avg_rating_recent             22853.0  3.937739e+00       0.888605     0.0   \n",
       "rating                        22853.0  3.937739e+00       0.888605     0.0   \n",
       "num_reviews                   22853.0  2.702776e+02    2048.788093     0.0   \n",
       "num_published_lectures        22853.0  3.491721e+01      48.652820     0.0   \n",
       "num_published_practice_tests  22853.0  3.752243e-01       1.160939     0.0   \n",
       "discount_price__amount        21024.0  4.862661e+02     234.100393   455.0   \n",
       "price_detail__amount          22356.0  4.445518e+03    3098.531678  1280.0   \n",
       "\n",
       "                                       25%           50%           75%  \\\n",
       "id                            1.090694e+06  1.824268e+06  2.604580e+06   \n",
       "num_subscribers               7.600000e+01  5.590000e+02  2.483000e+03   \n",
       "avg_rating                    3.750000e+00  4.150000e+00  4.435480e+00   \n",
       "avg_rating_recent             3.732460e+00  4.148680e+00  4.433520e+00   \n",
       "rating                        3.732460e+00  4.148680e+00  4.433520e+00   \n",
       "num_reviews                   8.000000e+00  2.700000e+01  9.800000e+01   \n",
       "num_published_lectures        1.100000e+01  2.200000e+01  4.100000e+01   \n",
       "num_published_practice_tests  0.000000e+00  0.000000e+00  0.000000e+00   \n",
       "discount_price__amount        4.550000e+02  4.550000e+02  4.550000e+02   \n",
       "price_detail__amount          1.280000e+03  3.200000e+03  8.640000e+03   \n",
       "\n",
       "                                    max  \n",
       "id                            3486006.0  \n",
       "num_subscribers                564444.0  \n",
       "avg_rating                          5.0  \n",
       "avg_rating_recent                   5.0  \n",
       "rating                              5.0  \n",
       "num_reviews                    188941.0  \n",
       "num_published_lectures            699.0  \n",
       "num_published_practice_tests        6.0  \n",
       "discount_price__amount           3200.0  \n",
       "price_detail__amount            12800.0  "
      ]
     },
     "execution_count": 9,
     "metadata": {},
     "output_type": "execute_result"
    }
   ],
   "source": [
    "df.describe().T\n"
   ]
  },
  {
   "cell_type": "markdown",
   "metadata": {},
   "source": [
    "Transforming from string to date"
   ]
  },
  {
   "cell_type": "code",
   "execution_count": 10,
   "metadata": {
    "id": "gA3ePalXP-f0"
   },
   "outputs": [],
   "source": [
    "df['created'] = pd.to_datetime(df['created'])\n",
    "df['published_time'] = pd.to_datetime(df['published_time'])"
   ]
  },
  {
   "cell_type": "markdown",
   "metadata": {
    "id": "y76g70t_pFp5"
   },
   "source": [
    "Adding date as integer"
   ]
  },
  {
   "cell_type": "code",
   "execution_count": 11,
   "metadata": {
    "id": "AaCa2wlvQHTp"
   },
   "outputs": [],
   "source": [
    "df['created_int'] = pd.to_numeric(df['created'])\n",
    "df['published_time_int'] = pd.to_numeric(df['published_time'])"
   ]
  },
  {
   "cell_type": "markdown",
   "metadata": {
    "id": "TTCYIjgoPpqM"
   },
   "source": [
    "### Correlation matrix"
   ]
  },
  {
   "cell_type": "code",
   "execution_count": 12,
   "metadata": {
    "id": "mtIrHkTKB-us"
   },
   "outputs": [],
   "source": [
    "corr = df.drop(columns=['id']).corr(method='spearman').round(2)"
   ]
  },
  {
   "cell_type": "code",
   "execution_count": 13,
   "metadata": {
    "colab": {
     "base_uri": "https://localhost:8080/",
     "height": 808
    },
    "id": "dXteZ5K-C5v-",
    "outputId": "f73bcde3-08e9-4d8e-9b41-be1400cc2c27"
   },
   "outputs": [
    {
     "data": {
      "text/plain": [
       "<AxesSubplot:>"
      ]
     },
     "execution_count": 13,
     "metadata": {},
     "output_type": "execute_result"
    },
    {
     "data": {
      "image/png": "[encoded data removed]",
      "text/plain": [
       "<Figure size 700x700 with 2 Axes>"
      ]
     },
     "metadata": {
      "needs_background": "light"
     },
     "output_type": "display_data"
    }
   ],
   "source": [
    "plt.figure(figsize=(7, 7), dpi=100)\n",
    "\n",
    "sns.heatmap(corr,annot=True,xticklabels=True, cmap='Blues')"
   ]
  },
  {
   "cell_type": "code",
   "execution_count": 14,
   "metadata": {
    "id": "VAHYs3icH1_S"
   },
   "outputs": [
    {
     "name": "stdout",
     "output_type": "stream",
     "text": [
      "2.0 % of courses are free\n"
     ]
    }
   ],
   "source": [
    "print(f'{np.round(df.is_paid.value_counts()[False] / df.shape[0] * 100)} % of courses are free')"
   ]
  },
  {
   "cell_type": "code",
   "execution_count": 15,
   "metadata": {
    "colab": {
     "base_uri": "https://localhost:8080/"
    },
    "id": "NUt8Q7h8H9Zd",
    "outputId": "cd102721-156a-4eb5-c339-4b0a1ad12df5"
   },
   "outputs": [
    {
     "data": {
      "text/plain": [
       "Timestamp('2020-09-10 06:31:11+0000', tz='UTC')"
      ]
     },
     "execution_count": 15,
     "metadata": {},
     "output_type": "execute_result"
    }
   ],
   "source": [
    "pd.to_datetime(df['published_time']).max() #mention: data up to september 2020"
   ]
  },
  {
   "cell_type": "markdown",
   "metadata": {
    "id": "EnFp8K7CHOtX"
   },
   "source": [
    "## Currency and NaNs"
   ]
  },
  {
   "cell_type": "code",
   "execution_count": 16,
   "metadata": {
    "scrolled": true
   },
   "outputs": [
    {
     "data": {
      "text/plain": [
       "id                                 0\n",
       "title                              0\n",
       "url                                0\n",
       "is_paid                            0\n",
       "num_subscribers                    0\n",
       "avg_rating                         0\n",
       "avg_rating_recent                  0\n",
       "rating                             0\n",
       "num_reviews                        0\n",
       "is_wishlisted                      0\n",
       "num_published_lectures             0\n",
       "num_published_practice_tests       0\n",
       "created                            0\n",
       "published_time                     0\n",
       "discount_price__amount          1829\n",
       "discount_price__currency        1829\n",
       "discount_price__price_string    1829\n",
       "price_detail__amount             497\n",
       "price_detail__currency           497\n",
       "price_detail__price_string       497\n",
       "created_int                        0\n",
       "published_time_int                 0\n",
       "dtype: int64"
      ]
     },
     "execution_count": 16,
     "metadata": {},
     "output_type": "execute_result"
    }
   ],
   "source": [
    "df.isna().sum() # how many null values each column has"
   ]
  },
  {
   "cell_type": "code",
   "execution_count": 17,
   "metadata": {
    "colab": {
     "base_uri": "https://localhost:8080/"
    },
    "id": "TSYW-0oyy1wA",
    "outputId": "07e910d0-2541-4cc2-e926-7086e8be6658"
   },
   "outputs": [
    {
     "data": {
      "text/plain": [
       "INR    21024\n",
       "NaN     1829\n",
       "Name: discount_price__currency, dtype: int64"
      ]
     },
     "execution_count": 17,
     "metadata": {},
     "output_type": "execute_result"
    }
   ],
   "source": [
    "df['discount_price__currency'].value_counts(dropna=False)"
   ]
  },
  {
   "cell_type": "markdown",
   "metadata": {},
   "source": [
    "For discounted price, we can look at which have null and are free. (probably all free have Null values here)\n",
    "-> impute by setting these to 0"
   ]
  },
  {
   "cell_type": "code",
   "execution_count": 18,
   "metadata": {
    "colab": {
     "base_uri": "https://localhost:8080/"
    },
    "id": "YuoPDS3uHwLb",
    "outputId": "68a2b5a3-8331-402c-e426-72ab2292bc82"
   },
   "outputs": [
    {
     "data": {
      "text/plain": [
       "INR    22356\n",
       "NaN      497\n",
       "Name: price_detail__currency, dtype: int64"
      ]
     },
     "execution_count": 18,
     "metadata": {},
     "output_type": "execute_result"
    }
   ],
   "source": [
    "df['price_detail__currency'].value_counts(dropna=False)"
   ]
  },
  {
   "cell_type": "markdown",
   "metadata": {},
   "source": [
    "For both `_currency` attributes we observe only one value and null values. There are two possible causes of these null values:\n",
    "1. Course is free, therefore it has no price, price currency, discounted price and discounted price currency\n",
    "2. Course is not free but was never discounted, meaning it has no discounted price nor discounted price currency."
   ]
  },
  {
   "cell_type": "code",
   "execution_count": 19,
   "metadata": {},
   "outputs": [
    {
     "data": {
      "text/plain": [
       "1333"
      ]
     },
     "execution_count": 19,
     "metadata": {},
     "output_type": "execute_result"
    }
   ],
   "source": [
    "df.loc[df['discount_price__currency'].isna() & df['is_paid']].shape[0] # number of paid and no discount price"
   ]
  },
  {
   "cell_type": "markdown",
   "metadata": {},
   "source": [
    "For these we can set the discount price to the original price. (they probably never had a discount)"
   ]
  },
  {
   "cell_type": "code",
   "execution_count": 20,
   "metadata": {
    "colab": {
     "base_uri": "https://localhost:8080/",
     "height": 226
    },
    "id": "gBQYEMqlHzvr",
    "outputId": "de49b35d-1810-4b7a-8c0c-77a9ae7c5222"
   },
   "outputs": [
    {
     "name": "stdout",
     "output_type": "stream",
     "text": [
      "            id                                       title  \\\n",
      "13607  2935720  Acabou a Previdência e agora? -  Volume 03   \n",
      "\n",
      "                                                   url  is_paid  \\\n",
      "13607  /course/acabou-a-previdencia-e-agora-volume-03/     True   \n",
      "\n",
      "       num_subscribers  avg_rating  avg_rating_recent  rating  num_reviews  \\\n",
      "13607                0         0.0                0.0     0.0            0   \n",
      "\n",
      "       is_wishlisted  ...                   created            published_time  \\\n",
      "13607          False  ... 2020-03-30 19:10:58+00:00 2020-04-02 16:33:32+00:00   \n",
      "\n",
      "      discount_price__amount discount_price__currency  \\\n",
      "13607                    NaN                      NaN   \n",
      "\n",
      "       discount_price__price_string price_detail__amount  \\\n",
      "13607                           NaN                  NaN   \n",
      "\n",
      "      price_detail__currency  price_detail__price_string          created_int  \\\n",
      "13607                    NaN                         NaN  1585595458000000000   \n",
      "\n",
      "        published_time_int  \n",
      "13607  1585845212000000000  \n",
      "\n",
      "[1 rows x 22 columns]\n"
     ]
    }
   ],
   "source": [
    "outlier = df.loc[df['price_detail__currency'].isna() & df['is_paid']] #outlier\n",
    "print(outlier)\n",
    "\n",
    "outlier_indices = outlier.index\n"
   ]
  },
  {
   "cell_type": "markdown",
   "metadata": {},
   "source": [
    "## Plotting the attribute distributions"
   ]
  },
  {
   "cell_type": "code",
   "execution_count": 21,
   "metadata": {
    "colab": {
     "base_uri": "https://localhost:8080/",
     "height": 305
    },
    "id": "w9x_NtEL96Jl",
    "outputId": "155ebc24-acef-4b09-84e4-ac2b5c8feabb"
   },
   "outputs": [
    {
     "data": {
      "text/plain": [
       "<BarContainer object of 2 artists>"
      ]
     },
     "execution_count": 21,
     "metadata": {},
     "output_type": "execute_result"
    },
    {
     "data": {
      "image/png": "[encoded data removed]",
      "text/plain": [
       "<Figure size 400x300 with 1 Axes>"
      ]
     },
     "metadata": {
      "needs_background": "light"
     },
     "output_type": "display_data"
    }
   ],
   "source": [
    "plt.figure(figsize=(4, 3), dpi=100)\n",
    "plt.bar(['Paid', 'Free'] , df.is_paid.value_counts())"
   ]
  },
  {
   "cell_type": "code",
   "execution_count": 22,
   "metadata": {
    "colab": {
     "base_uri": "https://localhost:8080/",
     "height": 619
    },
    "id": "f2aCYNyPpopq",
    "outputId": "abe1fabd-c2ad-4a7f-e67f-6913dae7baa2"
   },
   "outputs": [
    {
     "data": {
      "text/plain": [
       "(array([2.1416e+04, 8.6500e+02, 2.8700e+02, 1.1200e+02, 4.6000e+01,\n",
       "        3.5000e+01, 2.2000e+01, 1.9000e+01, 1.1000e+01, 7.0000e+00,\n",
       "        6.0000e+00, 3.0000e+00, 3.0000e+00, 1.0000e+00, 4.0000e+00,\n",
       "        2.0000e+00, 2.0000e+00, 2.0000e+00, 1.0000e+00, 0.0000e+00,\n",
       "        0.0000e+00, 3.0000e+00, 0.0000e+00, 1.0000e+00, 1.0000e+00,\n",
       "        0.0000e+00, 1.0000e+00, 0.0000e+00, 0.0000e+00, 0.0000e+00,\n",
       "        0.0000e+00, 0.0000e+00, 0.0000e+00, 2.0000e+00, 0.0000e+00,\n",
       "        0.0000e+00, 0.0000e+00, 0.0000e+00, 0.0000e+00, 0.0000e+00,\n",
       "        0.0000e+00, 0.0000e+00, 0.0000e+00, 0.0000e+00, 0.0000e+00,\n",
       "        0.0000e+00, 0.0000e+00, 0.0000e+00, 0.0000e+00, 1.0000e+00]),\n",
       " array([     0.  ,  11288.88,  22577.76,  33866.64,  45155.52,  56444.4 ,\n",
       "         67733.28,  79022.16,  90311.04, 101599.92, 112888.8 , 124177.68,\n",
       "        135466.56, 146755.44, 158044.32, 169333.2 , 180622.08, 191910.96,\n",
       "        203199.84, 214488.72, 225777.6 , 237066.48, 248355.36, 259644.24,\n",
       "        270933.12, 282222.  , 293510.88, 304799.76, 316088.64, 327377.52,\n",
       "        338666.4 , 349955.28, 361244.16, 372533.04, 383821.92, 395110.8 ,\n",
       "        406399.68, 417688.56, 428977.44, 440266.32, 451555.2 , 462844.08,\n",
       "        474132.96, 485421.84, 496710.72, 507999.6 , 519288.48, 530577.36,\n",
       "        541866.24, 553155.12, 564444.  ]),\n",
       " <BarContainer object of 50 artists>)"
      ]
     },
     "execution_count": 22,
     "metadata": {},
     "output_type": "execute_result"
    },
    {
     "data": {
      "image/png": "[encoded data removed]",
      "text/plain": [
       "<Figure size 432x288 with 1 Axes>"
      ]
     },
     "metadata": {
      "needs_background": "light"
     },
     "output_type": "display_data"
    }
   ],
   "source": [
    "plt.hist(df['num_subscribers'], bins=50, log=True)"
   ]
  },
  {
   "cell_type": "code",
   "execution_count": 23,
   "metadata": {
    "colab": {
     "base_uri": "https://localhost:8080/",
     "height": 637
    },
    "id": "E2Y20SW9MbUe",
    "outputId": "e859570a-00c9-4ff4-c630-b05bf31fe6e1"
   },
   "outputs": [
    {
     "data": {
      "text/plain": [
       "(array([2.150e+02, 0.000e+00, 1.690e+02, 0.000e+00, 1.210e+02, 9.900e+01,\n",
       "        1.860e+02, 2.010e+02, 2.000e+02, 4.080e+02, 4.110e+02, 6.090e+02,\n",
       "        6.100e+02, 6.240e+02, 7.870e+02, 7.930e+02, 7.190e+02, 7.710e+02,\n",
       "        7.990e+02, 7.230e+02, 7.550e+02, 7.530e+02, 7.690e+02, 7.890e+02,\n",
       "        8.190e+02, 9.330e+02, 1.237e+03, 1.039e+03, 1.073e+03, 1.015e+03,\n",
       "        9.510e+02, 8.500e+02, 7.730e+02, 5.980e+02, 5.140e+02, 4.130e+02,\n",
       "        3.380e+02, 2.480e+02, 2.000e+02, 1.190e+02, 8.300e+01, 4.700e+01,\n",
       "        3.700e+01, 2.400e+01, 1.000e+01, 1.000e+01, 5.000e+00, 3.000e+00,\n",
       "        2.000e+00, 1.000e+00]),\n",
       " array([ 0.        ,  0.26487196,  0.52974393,  0.79461589,  1.05948786,\n",
       "         1.32435982,  1.58923179,  1.85410375,  2.11897572,  2.38384768,\n",
       "         2.64871965,  2.91359161,  3.17846357,  3.44333554,  3.7082075 ,\n",
       "         3.97307947,  4.23795143,  4.5028234 ,  4.76769536,  5.03256733,\n",
       "         5.29743929,  5.56231126,  5.82718322,  6.09205518,  6.35692715,\n",
       "         6.62179911,  6.88667108,  7.15154304,  7.41641501,  7.68128697,\n",
       "         7.94615894,  8.2110309 ,  8.47590286,  8.74077483,  9.00564679,\n",
       "         9.27051876,  9.53539072,  9.80026269, 10.06513465, 10.33000662,\n",
       "        10.59487858, 10.85975055, 11.12462251, 11.38949447, 11.65436644,\n",
       "        11.9192384 , 12.18411037, 12.44898233, 12.7138543 , 12.97872626,\n",
       "        13.24359823]),\n",
       " <BarContainer object of 50 artists>)"
      ]
     },
     "execution_count": 23,
     "metadata": {},
     "output_type": "execute_result"
    },
    {
     "data": {
      "image/png": "[encoded data removed]",
      "text/plain": [
       "<Figure size 432x288 with 1 Axes>"
      ]
     },
     "metadata": {
      "needs_background": "light"
     },
     "output_type": "display_data"
    }
   ],
   "source": [
    "plt.hist(np.log(1+df['num_subscribers']), bins=50)"
   ]
  },
  {
   "cell_type": "code",
   "execution_count": 24,
   "metadata": {
    "colab": {
     "base_uri": "https://localhost:8080/",
     "height": 513
    },
    "id": "ffifrHLUriOe",
    "outputId": "d0805bea-30b3-420a-94ac-aa21b476aeb1"
   },
   "outputs": [
    {
     "data": {
      "text/plain": [
       "(array([6.840e+02, 0.000e+00, 0.000e+00, 0.000e+00, 0.000e+00, 2.000e+00,\n",
       "        0.000e+00, 0.000e+00, 0.000e+00, 0.000e+00, 3.600e+01, 3.000e+00,\n",
       "        5.000e+00, 4.000e+00, 1.000e+00, 9.000e+00, 9.000e+00, 7.000e+00,\n",
       "        2.000e+01, 7.000e+00, 4.900e+01, 2.500e+01, 4.100e+01, 6.000e+01,\n",
       "        8.000e+00, 1.010e+02, 8.300e+01, 1.540e+02, 1.410e+02, 6.900e+01,\n",
       "        3.170e+02, 2.540e+02, 4.730e+02, 4.880e+02, 2.620e+02, 8.180e+02,\n",
       "        8.120e+02, 1.411e+03, 1.242e+03, 7.650e+02, 2.368e+03, 1.335e+03,\n",
       "        1.987e+03, 2.187e+03, 1.862e+03, 2.175e+03, 8.460e+02, 8.540e+02,\n",
       "        2.940e+02, 5.850e+02]),\n",
       " array([0. , 0.1, 0.2, 0.3, 0.4, 0.5, 0.6, 0.7, 0.8, 0.9, 1. , 1.1, 1.2,\n",
       "        1.3, 1.4, 1.5, 1.6, 1.7, 1.8, 1.9, 2. , 2.1, 2.2, 2.3, 2.4, 2.5,\n",
       "        2.6, 2.7, 2.8, 2.9, 3. , 3.1, 3.2, 3.3, 3.4, 3.5, 3.6, 3.7, 3.8,\n",
       "        3.9, 4. , 4.1, 4.2, 4.3, 4.4, 4.5, 4.6, 4.7, 4.8, 4.9, 5. ]),\n",
       " <BarContainer object of 50 artists>)"
      ]
     },
     "execution_count": 24,
     "metadata": {},
     "output_type": "execute_result"
    },
    {
     "data": {
      "image/png": "[encoded data removed]",
      "text/plain": [
       "<Figure size 432x288 with 1 Axes>"
      ]
     },
     "metadata": {
      "needs_background": "light"
     },
     "output_type": "display_data"
    }
   ],
   "source": [
    "plt.hist(df['avg_rating'], bins=50)"
   ]
  },
  {
   "cell_type": "markdown",
   "metadata": {
    "id": "EkfjlBDHHpIf"
   },
   "source": [
    "### Number of courses created / published over the years"
   ]
  },
  {
   "cell_type": "code",
   "execution_count": 25,
   "metadata": {
    "colab": {
     "base_uri": "https://localhost:8080/",
     "height": 313
    },
    "id": "0gzsjvNfRF8V",
    "outputId": "02430f79-1a8d-476c-a0f7-c99b188b2df3",
    "scrolled": false
   },
   "outputs": [
    {
     "data": {
      "text/plain": [
       "<AxesSubplot:xlabel='created'>"
      ]
     },
     "execution_count": 25,
     "metadata": {},
     "output_type": "execute_result"
    },
    {
     "data": {
      "image/png": "[encoded data removed]",
      "text/plain": [
       "<Figure size 432x288 with 1 Axes>"
      ]
     },
     "metadata": {
      "needs_background": "light"
     },
     "output_type": "display_data"
    }
   ],
   "source": [
    "df.groupby(df[\"created\"].dt.year)['id'].count().plot(kind=\"bar\", legend=False)"
   ]
  },
  {
   "cell_type": "code",
   "execution_count": 26,
   "metadata": {
    "colab": {
     "base_uri": "https://localhost:8080/",
     "height": 314
    },
    "id": "9TufBezMTq2b",
    "outputId": "4351fb9f-879e-4ffb-cd15-912e49d859e0"
   },
   "outputs": [
    {
     "data": {
      "text/plain": [
       "<AxesSubplot:xlabel='published_time'>"
      ]
     },
     "execution_count": 26,
     "metadata": {},
     "output_type": "execute_result"
    },
    {
     "data": {
      "image/png": "[encoded data removed]",
      "text/plain": [
       "<Figure size 432x288 with 1 Axes>"
      ]
     },
     "metadata": {
      "needs_background": "light"
     },
     "output_type": "display_data"
    }
   ],
   "source": [
    "df.groupby(df[\"published_time\"].dt.year)['id'].count().plot(kind=\"bar\", legend=False)"
   ]
  },
  {
   "cell_type": "markdown",
   "metadata": {},
   "source": [
    "#### Marking beginner courses based on the contents of the `title`"
   ]
  },
  {
   "cell_type": "code",
   "execution_count": 27,
   "metadata": {},
   "outputs": [],
   "source": [
    "# is a beginner course\n",
    "beginners_courses_idx = df['title'].str.contains('begin|start|intro|fundamental|basic|101|how to|foundation|rookie',case=False)\n",
    "df['is_beginner'] = beginners_courses_idx\n"
   ]
  },
  {
   "cell_type": "code",
   "execution_count": 28,
   "metadata": {},
   "outputs": [
    {
     "data": {
      "text/plain": [
       "<AxesSubplot:title={'center':'Average # of subscribers'}, xlabel='is_beginner'>"
      ]
     },
     "execution_count": 28,
     "metadata": {},
     "output_type": "execute_result"
    },
    {
     "data": {
      "image/png": "[encoded data removed]",
      "text/plain": [
       "<Figure size 432x288 with 1 Axes>"
      ]
     },
     "metadata": {
      "needs_background": "light"
     },
     "output_type": "display_data"
    }
   ],
   "source": [
    "df.groupby(df[\"is_beginner\"])['num_subscribers'].mean().plot(kind=\"bar\", legend=False, title=\"Average # of subscribers\")"
   ]
  },
  {
   "cell_type": "code",
   "execution_count": 29,
   "metadata": {},
   "outputs": [],
   "source": [
    "advanced_idx = df['title'].str.contains('advanced|master|expert|professional',case=False)\n",
    "df[\"is_advanced\"] = advanced_idx"
   ]
  },
  {
   "cell_type": "code",
   "execution_count": 30,
   "metadata": {},
   "outputs": [
    {
     "data": {
      "text/plain": [
       "<AxesSubplot:title={'center':'Average # of subscribers'}, xlabel='is_advanced'>"
      ]
     },
     "execution_count": 30,
     "metadata": {},
     "output_type": "execute_result"
    },
    {
     "data": {
      "image/png": "[encoded data removed]",
      "text/plain": [
       "<Figure size 432x288 with 1 Axes>"
      ]
     },
     "metadata": {
      "needs_background": "light"
     },
     "output_type": "display_data"
    }
   ],
   "source": [
    "df.groupby(df[\"is_advanced\"])['num_subscribers'].mean().plot(kind=\"bar\", legend=False, title=\"Average # of subscribers\")"
   ]
  },
  {
   "cell_type": "markdown",
   "metadata": {},
   "source": [
    "### Analysis of titles"
   ]
  },
  {
   "cell_type": "markdown",
   "metadata": {},
   "source": [
    "In the following, the most common title terms* are extracted.\n",
    "\n",
    "\\* \\- extracted tokens (without stopwords) were lemmatized (i.e. reduced to their dictionary form)"
   ]
  },
  {
   "cell_type": "code",
   "execution_count": 31,
   "metadata": {},
   "outputs": [
    {
     "name": "stdout",
     "output_type": "stream",
     "text": [
      "False\n",
      "lemmatized\n",
      "False\n"
     ]
    }
   ],
   "source": [
    "from nltk.tokenize import word_tokenize\n",
    "from nltk.stem import PorterStemmer, WordNetLemmatizer\n",
    "from collections import Counter\n",
    "from nltk.corpus import stopwords\n",
    "import re\n",
    "\n",
    "stemmer = PorterStemmer()\n",
    "lemmatizer = WordNetLemmatizer()\n",
    "stop_words = set(stopwords.words(\"english\"))\n",
    "\n",
    "# Function to extract and stem the words from a column\n",
    "def extract_terms(column):\n",
    "    # Tokenize the words in the column\n",
    "    words = word_tokenize(\" \".join(df[column]))\n",
    "    # Remove symbols and stopwords\n",
    "    cleaned_words = [word for word in words if (word.isalpha() and word.lower() not in stop_words)]\n",
    "    # Stem the words\n",
    "    print('The' in cleaned_words)\n",
    "    lemmatized_words = [lemmatizer.lemmatize(word) for word in cleaned_words]\n",
    "    # Count the most common terms\n",
    "    print('lemmatized')\n",
    "    print('The' in lemmatized_words)\n",
    "    common_terms = [term[0] for term in Counter(lemmatized_words).most_common(10)]\n",
    "    return (common_terms, lemmatized_words)\n",
    "\n",
    "# Extract the terms from the 'text' column\n",
    "common_terms, lemmatized_words = extract_terms(\"title\")"
   ]
  },
  {
   "cell_type": "code",
   "execution_count": 32,
   "metadata": {},
   "outputs": [],
   "source": [
    "common_terms = [term for term in Counter(lemmatized_words).most_common(20)]"
   ]
  },
  {
   "cell_type": "code",
   "execution_count": 33,
   "metadata": {},
   "outputs": [
    {
     "data": {
      "text/plain": [
       "([0, 1, 2, 3, 4, 5, 6, 7, 8, 9, 10, 11, 12, 13, 14, 15, 16, 17, 18, 19],\n",
       " [Text(0, 0, ''),\n",
       "  Text(0, 0, ''),\n",
       "  Text(0, 0, ''),\n",
       "  Text(0, 0, ''),\n",
       "  Text(0, 0, ''),\n",
       "  Text(0, 0, ''),\n",
       "  Text(0, 0, ''),\n",
       "  Text(0, 0, ''),\n",
       "  Text(0, 0, ''),\n",
       "  Text(0, 0, ''),\n",
       "  Text(0, 0, ''),\n",
       "  Text(0, 0, ''),\n",
       "  Text(0, 0, ''),\n",
       "  Text(0, 0, ''),\n",
       "  Text(0, 0, ''),\n",
       "  Text(0, 0, ''),\n",
       "  Text(0, 0, ''),\n",
       "  Text(0, 0, ''),\n",
       "  Text(0, 0, ''),\n",
       "  Text(0, 0, '')])"
      ]
     },
     "execution_count": 33,
     "metadata": {},
     "output_type": "execute_result"
    },
    {
     "data": {
      "image/png": "[encoded data removed]",
      "text/plain": [
       "<Figure size 700x700 with 1 Axes>"
      ]
     },
     "metadata": {
      "needs_background": "light"
     },
     "output_type": "display_data"
    }
   ],
   "source": [
    "plt.figure(figsize=(7, 7), dpi=100)\n",
    "plt.bar(*zip(*common_terms))\n",
    "plt.xticks(rotation=-90)"
   ]
  },
  {
   "cell_type": "markdown",
   "metadata": {
    "id": "HuABdQO7BLMx"
   },
   "source": [
    "#### Days since last published"
   ]
  },
  {
   "cell_type": "code",
   "execution_count": 34,
   "metadata": {
    "id": "Xkm5DClV-gNb"
   },
   "outputs": [],
   "source": [
    "from pandas.io.formats.info import DataFrameTableBuilderNonVerbose\n",
    "lastpublished = pd.to_datetime(df['published_time']).max()\n",
    "\n",
    "df['days_since_last_published'] = (lastpublished - pd.to_datetime(df['published_time'])).dt.days  "
   ]
  },
  {
   "cell_type": "code",
   "execution_count": 35,
   "metadata": {
    "colab": {
     "base_uri": "https://localhost:8080/"
    },
    "id": "YNBUPYjM-gK-",
    "outputId": "eeb28884-6258-440f-f68d-ef606c448285"
   },
   "outputs": [
    {
     "data": {
      "text/plain": [
       "0        1618\n",
       "1        1478\n",
       "2        1030\n",
       "3        1694\n",
       "4        1703\n",
       "         ... \n",
       "22848     955\n",
       "22849     990\n",
       "22850     721\n",
       "22851     638\n",
       "22852    1892\n",
       "Name: days_since_last_published, Length: 22853, dtype: int64"
      ]
     },
     "execution_count": 35,
     "metadata": {},
     "output_type": "execute_result"
    }
   ],
   "source": [
    "df['days_since_last_published']"
   ]
  },
  {
   "cell_type": "code",
   "execution_count": 36,
   "metadata": {
    "colab": {
     "base_uri": "https://localhost:8080/"
    },
    "id": "NPaOR3bACtFp",
    "outputId": "59dd7a0a-47a6-4c8c-d089-11c6a94c32cb"
   },
   "outputs": [
    {
     "data": {
      "text/plain": [
       "0.08774825332799722"
      ]
     },
     "execution_count": 36,
     "metadata": {},
     "output_type": "execute_result"
    }
   ],
   "source": [
    "df['days_since_last_published'].corr(df['num_subscribers'])"
   ]
  },
  {
   "cell_type": "markdown",
   "metadata": {
    "id": "tNutOOiiIDeu"
   },
   "source": [
    "## Notes \n",
    "Incorporate published_time >> relevant for popularity. If more recent -> needs less subscribers\n",
    "\n",
    "Treat as time series (take most recent data points for testing)\n",
    "\n",
    "Add to additional data requirements: \n",
    "    When did subscribers subscribe (maximal number of subscribers over all years)\n",
    "       there might be less subs now if the course is old and the content of the course is outdated etc.\n",
    "\n",
    "Consider the old courses (2010-2014) because there are very few of them. How to handle them. The data is probably not relevant. \n",
    "\n",
    "Consider the updates of the courses (some are updated some are not) consider updated_timestamp (which are not present in current dataset).\n",
    "\n",
    "\n",
    "Converting the price after modeling (for the company management)\n",
    "\n",
    "✅ Avg/total number of subs per year (based on `published_time`). -> interesting for marketing and sales \n",
    "\n",
    "Is published date == updated date? unclear\n",
    "\n",
    "✅ look at (published-created) distribution ---->>> Derived attribute (daysinbetweendates/int)\n",
    "\n",
    "✅ Are there courses with same/similar titles? (e.g. `VU Business Intelligence WS2022` and `VU Business Intelligence WS2023`\n"
   ]
  },
  {
   "cell_type": "markdown",
   "metadata": {
    "id": "zj4m42Ca7yne"
   },
   "source": [
    "## Courses with similar / same titles"
   ]
  },
  {
   "cell_type": "code",
   "execution_count": 37,
   "metadata": {
    "colab": {
     "base_uri": "https://localhost:8080/",
     "height": 1000
    },
    "id": "QknSJsoqvDXb",
    "outputId": "2839be5d-67bf-4b83-c36d-b7a4cc839642"
   },
   "outputs": [
    {
     "name": "stdout",
     "output_type": "stream",
     "text": [
      "1133\n"
     ]
    },
    {
     "data": {
      "text/html": [
       "<div>\n",
       "<style scoped>\n",
       "    .dataframe tbody tr th:only-of-type {\n",
       "        vertical-align: middle;\n",
       "    }\n",
       "\n",
       "    .dataframe tbody tr th {\n",
       "        vertical-align: top;\n",
       "    }\n",
       "\n",
       "    .dataframe thead th {\n",
       "        text-align: right;\n",
       "    }\n",
       "</style>\n",
       "<table border=\"1\" class=\"dataframe\">\n",
       "  <thead>\n",
       "    <tr style=\"text-align: right;\">\n",
       "      <th></th>\n",
       "      <th>id</th>\n",
       "      <th>title</th>\n",
       "      <th>url</th>\n",
       "      <th>is_paid</th>\n",
       "      <th>num_subscribers</th>\n",
       "      <th>avg_rating</th>\n",
       "      <th>avg_rating_recent</th>\n",
       "      <th>rating</th>\n",
       "      <th>num_reviews</th>\n",
       "      <th>is_wishlisted</th>\n",
       "      <th>...</th>\n",
       "      <th>discount_price__currency</th>\n",
       "      <th>discount_price__price_string</th>\n",
       "      <th>price_detail__amount</th>\n",
       "      <th>price_detail__currency</th>\n",
       "      <th>price_detail__price_string</th>\n",
       "      <th>created_int</th>\n",
       "      <th>published_time_int</th>\n",
       "      <th>is_beginner</th>\n",
       "      <th>is_advanced</th>\n",
       "      <th>days_since_last_published</th>\n",
       "    </tr>\n",
       "  </thead>\n",
       "  <tbody>\n",
       "    <tr>\n",
       "      <th>22550</th>\n",
       "      <td>2662338</td>\n",
       "      <td>1Z0-068 : Oracle Database 12c: RAC and Grid Pr...</td>\n",
       "      <td>/course/1z0-068-oracle-database-12c-rac-and-gr...</td>\n",
       "      <td>True</td>\n",
       "      <td>116</td>\n",
       "      <td>4.83333</td>\n",
       "      <td>4.83896</td>\n",
       "      <td>4.83896</td>\n",
       "      <td>3</td>\n",
       "      <td>False</td>\n",
       "      <td>...</td>\n",
       "      <td>INR</td>\n",
       "      <td>₹455</td>\n",
       "      <td>1280.0</td>\n",
       "      <td>INR</td>\n",
       "      <td>₹1,280</td>\n",
       "      <td>1574143081000000000</td>\n",
       "      <td>1574345032000000000</td>\n",
       "      <td>False</td>\n",
       "      <td>False</td>\n",
       "      <td>293</td>\n",
       "    </tr>\n",
       "    <tr>\n",
       "      <th>19111</th>\n",
       "      <td>3074042</td>\n",
       "      <td>1Z0-1072 Oracle Cloud Infrastructure 2019 Arch...</td>\n",
       "      <td>/course/1z0-1072-oracle-cloud-infrastructure-2...</td>\n",
       "      <td>True</td>\n",
       "      <td>68</td>\n",
       "      <td>4.22727</td>\n",
       "      <td>4.10804</td>\n",
       "      <td>4.10804</td>\n",
       "      <td>20</td>\n",
       "      <td>False</td>\n",
       "      <td>...</td>\n",
       "      <td>INR</td>\n",
       "      <td>₹455</td>\n",
       "      <td>1920.0</td>\n",
       "      <td>INR</td>\n",
       "      <td>₹1,920</td>\n",
       "      <td>1588285857000000000</td>\n",
       "      <td>1588288989000000000</td>\n",
       "      <td>False</td>\n",
       "      <td>False</td>\n",
       "      <td>132</td>\n",
       "    </tr>\n",
       "    <tr>\n",
       "      <th>20327</th>\n",
       "      <td>3362370</td>\n",
       "      <td>1Z0-1084-20 Oracle Cloud Infrastructure Develo...</td>\n",
       "      <td>/course/1z0-1084-20-oracle-cloud-infrastructur...</td>\n",
       "      <td>True</td>\n",
       "      <td>107</td>\n",
       "      <td>4.59091</td>\n",
       "      <td>4.60577</td>\n",
       "      <td>4.60577</td>\n",
       "      <td>11</td>\n",
       "      <td>False</td>\n",
       "      <td>...</td>\n",
       "      <td>INR</td>\n",
       "      <td>₹455</td>\n",
       "      <td>1280.0</td>\n",
       "      <td>INR</td>\n",
       "      <td>₹1,280</td>\n",
       "      <td>1595611799000000000</td>\n",
       "      <td>1595892180000000000</td>\n",
       "      <td>False</td>\n",
       "      <td>False</td>\n",
       "      <td>44</td>\n",
       "    </tr>\n",
       "    <tr>\n",
       "      <th>18334</th>\n",
       "      <td>3060372</td>\n",
       "      <td>1Z0-1085-20 Oracle Cloud Infrastructure Founda...</td>\n",
       "      <td>/course/1z0-1085-20-oracle-cloud-infrastructur...</td>\n",
       "      <td>True</td>\n",
       "      <td>61</td>\n",
       "      <td>4.45000</td>\n",
       "      <td>4.64272</td>\n",
       "      <td>4.64272</td>\n",
       "      <td>30</td>\n",
       "      <td>False</td>\n",
       "      <td>...</td>\n",
       "      <td>INR</td>\n",
       "      <td>₹455</td>\n",
       "      <td>1280.0</td>\n",
       "      <td>INR</td>\n",
       "      <td>₹1,280</td>\n",
       "      <td>1588016108000000000</td>\n",
       "      <td>1588025959000000000</td>\n",
       "      <td>True</td>\n",
       "      <td>False</td>\n",
       "      <td>135</td>\n",
       "    </tr>\n",
       "    <tr>\n",
       "      <th>22812</th>\n",
       "      <td>3078234</td>\n",
       "      <td>1Z0-931 - Oracle Autonomous Database Cloud 201...</td>\n",
       "      <td>/course/1z0-931-oracle-autonomous-database-clo...</td>\n",
       "      <td>True</td>\n",
       "      <td>2</td>\n",
       "      <td>3.25000</td>\n",
       "      <td>3.05000</td>\n",
       "      <td>3.05000</td>\n",
       "      <td>2</td>\n",
       "      <td>False</td>\n",
       "      <td>...</td>\n",
       "      <td>INR</td>\n",
       "      <td>₹455</td>\n",
       "      <td>1280.0</td>\n",
       "      <td>INR</td>\n",
       "      <td>₹1,280</td>\n",
       "      <td>1588373639000000000</td>\n",
       "      <td>1588382382000000000</td>\n",
       "      <td>False</td>\n",
       "      <td>False</td>\n",
       "      <td>131</td>\n",
       "    </tr>\n",
       "    <tr>\n",
       "      <th>...</th>\n",
       "      <td>...</td>\n",
       "      <td>...</td>\n",
       "      <td>...</td>\n",
       "      <td>...</td>\n",
       "      <td>...</td>\n",
       "      <td>...</td>\n",
       "      <td>...</td>\n",
       "      <td>...</td>\n",
       "      <td>...</td>\n",
       "      <td>...</td>\n",
       "      <td>...</td>\n",
       "      <td>...</td>\n",
       "      <td>...</td>\n",
       "      <td>...</td>\n",
       "      <td>...</td>\n",
       "      <td>...</td>\n",
       "      <td>...</td>\n",
       "      <td>...</td>\n",
       "      <td>...</td>\n",
       "      <td>...</td>\n",
       "      <td>...</td>\n",
       "    </tr>\n",
       "    <tr>\n",
       "      <th>19245</th>\n",
       "      <td>1665560</td>\n",
       "      <td>Windows Server 2016 with Powershell: Using WMI...</td>\n",
       "      <td>/course/windows-server-2016-with-powershell-us...</td>\n",
       "      <td>True</td>\n",
       "      <td>113</td>\n",
       "      <td>3.00000</td>\n",
       "      <td>3.10006</td>\n",
       "      <td>3.10006</td>\n",
       "      <td>19</td>\n",
       "      <td>False</td>\n",
       "      <td>...</td>\n",
       "      <td>INR</td>\n",
       "      <td>₹455</td>\n",
       "      <td>8640.0</td>\n",
       "      <td>INR</td>\n",
       "      <td>₹8,640</td>\n",
       "      <td>1524828896000000000</td>\n",
       "      <td>1525290260000000000</td>\n",
       "      <td>False</td>\n",
       "      <td>False</td>\n",
       "      <td>861</td>\n",
       "    </tr>\n",
       "    <tr>\n",
       "      <th>21246</th>\n",
       "      <td>1551046</td>\n",
       "      <td>Windows Server 2016 with Powershell: Working w...</td>\n",
       "      <td>/course/windows-server-2016-with-powershell-wo...</td>\n",
       "      <td>True</td>\n",
       "      <td>86</td>\n",
       "      <td>4.71429</td>\n",
       "      <td>4.56666</td>\n",
       "      <td>4.56666</td>\n",
       "      <td>7</td>\n",
       "      <td>False</td>\n",
       "      <td>...</td>\n",
       "      <td>INR</td>\n",
       "      <td>₹455</td>\n",
       "      <td>7680.0</td>\n",
       "      <td>INR</td>\n",
       "      <td>₹7,680</td>\n",
       "      <td>1518428682000000000</td>\n",
       "      <td>1519268079000000000</td>\n",
       "      <td>False</td>\n",
       "      <td>False</td>\n",
       "      <td>931</td>\n",
       "    </tr>\n",
       "    <tr>\n",
       "      <th>10481</th>\n",
       "      <td>951218</td>\n",
       "      <td>You can Pass the Certified Management Accounta...</td>\n",
       "      <td>/course/cma-exam-2-review-financial-decision-m...</td>\n",
       "      <td>True</td>\n",
       "      <td>141</td>\n",
       "      <td>3.91667</td>\n",
       "      <td>3.69408</td>\n",
       "      <td>3.69408</td>\n",
       "      <td>6</td>\n",
       "      <td>False</td>\n",
       "      <td>...</td>\n",
       "      <td>INR</td>\n",
       "      <td>₹455</td>\n",
       "      <td>1280.0</td>\n",
       "      <td>INR</td>\n",
       "      <td>₹1,280</td>\n",
       "      <td>1473140351000000000</td>\n",
       "      <td>1490043946000000000</td>\n",
       "      <td>False</td>\n",
       "      <td>False</td>\n",
       "      <td>1269</td>\n",
       "    </tr>\n",
       "    <tr>\n",
       "      <th>15449</th>\n",
       "      <td>2918344</td>\n",
       "      <td>[NEW] AWS Certified Cloud Practitioner From Sc...</td>\n",
       "      <td>/course/aws-certified-cloud-practitioner-exam-...</td>\n",
       "      <td>True</td>\n",
       "      <td>20011</td>\n",
       "      <td>4.22000</td>\n",
       "      <td>4.22587</td>\n",
       "      <td>4.22587</td>\n",
       "      <td>175</td>\n",
       "      <td>False</td>\n",
       "      <td>...</td>\n",
       "      <td>INR</td>\n",
       "      <td>₹640</td>\n",
       "      <td>2560.0</td>\n",
       "      <td>INR</td>\n",
       "      <td>₹2,560</td>\n",
       "      <td>1585282434000000000</td>\n",
       "      <td>1591231801000000000</td>\n",
       "      <td>False</td>\n",
       "      <td>False</td>\n",
       "      <td>98</td>\n",
       "    </tr>\n",
       "    <tr>\n",
       "      <th>3023</th>\n",
       "      <td>2538268</td>\n",
       "      <td>ePLAN Electric P8 Heavyweight Vol.2/2 - 2D Pan...</td>\n",
       "      <td>/course/eplan-electric-p8-course-vol2-english/</td>\n",
       "      <td>True</td>\n",
       "      <td>476</td>\n",
       "      <td>4.66667</td>\n",
       "      <td>4.64003</td>\n",
       "      <td>4.64003</td>\n",
       "      <td>74</td>\n",
       "      <td>False</td>\n",
       "      <td>...</td>\n",
       "      <td>NaN</td>\n",
       "      <td>NaN</td>\n",
       "      <td>5760.0</td>\n",
       "      <td>INR</td>\n",
       "      <td>₹5,760</td>\n",
       "      <td>1567345691000000000</td>\n",
       "      <td>1567650462000000000</td>\n",
       "      <td>False</td>\n",
       "      <td>False</td>\n",
       "      <td>371</td>\n",
       "    </tr>\n",
       "  </tbody>\n",
       "</table>\n",
       "<p>1133 rows × 25 columns</p>\n",
       "</div>"
      ],
      "text/plain": [
       "            id                                              title  \\\n",
       "22550  2662338  1Z0-068 : Oracle Database 12c: RAC and Grid Pr...   \n",
       "19111  3074042  1Z0-1072 Oracle Cloud Infrastructure 2019 Arch...   \n",
       "20327  3362370  1Z0-1084-20 Oracle Cloud Infrastructure Develo...   \n",
       "18334  3060372  1Z0-1085-20 Oracle Cloud Infrastructure Founda...   \n",
       "22812  3078234  1Z0-931 - Oracle Autonomous Database Cloud 201...   \n",
       "...        ...                                                ...   \n",
       "19245  1665560  Windows Server 2016 with Powershell: Using WMI...   \n",
       "21246  1551046  Windows Server 2016 with Powershell: Working w...   \n",
       "10481   951218  You can Pass the Certified Management Accounta...   \n",
       "15449  2918344  [NEW] AWS Certified Cloud Practitioner From Sc...   \n",
       "3023   2538268  ePLAN Electric P8 Heavyweight Vol.2/2 - 2D Pan...   \n",
       "\n",
       "                                                     url  is_paid  \\\n",
       "22550  /course/1z0-068-oracle-database-12c-rac-and-gr...     True   \n",
       "19111  /course/1z0-1072-oracle-cloud-infrastructure-2...     True   \n",
       "20327  /course/1z0-1084-20-oracle-cloud-infrastructur...     True   \n",
       "18334  /course/1z0-1085-20-oracle-cloud-infrastructur...     True   \n",
       "22812  /course/1z0-931-oracle-autonomous-database-clo...     True   \n",
       "...                                                  ...      ...   \n",
       "19245  /course/windows-server-2016-with-powershell-us...     True   \n",
       "21246  /course/windows-server-2016-with-powershell-wo...     True   \n",
       "10481  /course/cma-exam-2-review-financial-decision-m...     True   \n",
       "15449  /course/aws-certified-cloud-practitioner-exam-...     True   \n",
       "3023      /course/eplan-electric-p8-course-vol2-english/     True   \n",
       "\n",
       "       num_subscribers  avg_rating  avg_rating_recent   rating  num_reviews  \\\n",
       "22550              116     4.83333            4.83896  4.83896            3   \n",
       "19111               68     4.22727            4.10804  4.10804           20   \n",
       "20327              107     4.59091            4.60577  4.60577           11   \n",
       "18334               61     4.45000            4.64272  4.64272           30   \n",
       "22812                2     3.25000            3.05000  3.05000            2   \n",
       "...                ...         ...                ...      ...          ...   \n",
       "19245              113     3.00000            3.10006  3.10006           19   \n",
       "21246               86     4.71429            4.56666  4.56666            7   \n",
       "10481              141     3.91667            3.69408  3.69408            6   \n",
       "15449            20011     4.22000            4.22587  4.22587          175   \n",
       "3023               476     4.66667            4.64003  4.64003           74   \n",
       "\n",
       "       is_wishlisted  ...  discount_price__currency  \\\n",
       "22550          False  ...                       INR   \n",
       "19111          False  ...                       INR   \n",
       "20327          False  ...                       INR   \n",
       "18334          False  ...                       INR   \n",
       "22812          False  ...                       INR   \n",
       "...              ...  ...                       ...   \n",
       "19245          False  ...                       INR   \n",
       "21246          False  ...                       INR   \n",
       "10481          False  ...                       INR   \n",
       "15449          False  ...                       INR   \n",
       "3023           False  ...                       NaN   \n",
       "\n",
       "       discount_price__price_string price_detail__amount  \\\n",
       "22550                          ₹455               1280.0   \n",
       "19111                          ₹455               1920.0   \n",
       "20327                          ₹455               1280.0   \n",
       "18334                          ₹455               1280.0   \n",
       "22812                          ₹455               1280.0   \n",
       "...                             ...                  ...   \n",
       "19245                          ₹455               8640.0   \n",
       "21246                          ₹455               7680.0   \n",
       "10481                          ₹455               1280.0   \n",
       "15449                          ₹640               2560.0   \n",
       "3023                            NaN               5760.0   \n",
       "\n",
       "      price_detail__currency  price_detail__price_string          created_int  \\\n",
       "22550                    INR                      ₹1,280  1574143081000000000   \n",
       "19111                    INR                      ₹1,920  1588285857000000000   \n",
       "20327                    INR                      ₹1,280  1595611799000000000   \n",
       "18334                    INR                      ₹1,280  1588016108000000000   \n",
       "22812                    INR                      ₹1,280  1588373639000000000   \n",
       "...                      ...                         ...                  ...   \n",
       "19245                    INR                      ₹8,640  1524828896000000000   \n",
       "21246                    INR                      ₹7,680  1518428682000000000   \n",
       "10481                    INR                      ₹1,280  1473140351000000000   \n",
       "15449                    INR                      ₹2,560  1585282434000000000   \n",
       "3023                     INR                      ₹5,760  1567345691000000000   \n",
       "\n",
       "        published_time_int  is_beginner is_advanced days_since_last_published  \n",
       "22550  1574345032000000000        False       False                       293  \n",
       "19111  1588288989000000000        False       False                       132  \n",
       "20327  1595892180000000000        False       False                        44  \n",
       "18334  1588025959000000000         True       False                       135  \n",
       "22812  1588382382000000000        False       False                       131  \n",
       "...                    ...          ...         ...                       ...  \n",
       "19245  1525290260000000000        False       False                       861  \n",
       "21246  1519268079000000000        False       False                       931  \n",
       "10481  1490043946000000000        False       False                      1269  \n",
       "15449  1591231801000000000        False       False                        98  \n",
       "3023   1567650462000000000        False       False                       371  \n",
       "\n",
       "[1133 rows x 25 columns]"
      ]
     },
     "execution_count": 37,
     "metadata": {},
     "output_type": "execute_result"
    }
   ],
   "source": [
    "first_3_chars = df['title'].str[:30]\n",
    "duplicated_rows = df[first_3_chars.duplicated()]\n",
    "print(duplicated_rows.shape[0])\n",
    "duplicated_rows.sort_values('title')"
   ]
  },
  {
   "cell_type": "code",
   "execution_count": 38,
   "metadata": {
    "colab": {
     "base_uri": "https://localhost:8080/",
     "height": 581
    },
    "id": "_bN3pr5b2Mdc",
    "outputId": "6575cb69-343d-4169-eaee-1e0c79f890c7"
   },
   "outputs": [
    {
     "data": {
      "text/plain": [
       "Text(0, 0.5, '# of courses with this name')"
      ]
     },
     "execution_count": 38,
     "metadata": {},
     "output_type": "execute_result"
    },
    {
     "data": {
      "image/png": "[encoded data removed]",
      "text/plain": [
       "<Figure size 432x288 with 1 Axes>"
      ]
     },
     "metadata": {
      "needs_background": "light"
     },
     "output_type": "display_data"
    }
   ],
   "source": [
    "df['title'].value_counts().loc[df['title'].value_counts() > 1].nlargest(10).plot(kind=\"bar\")\n",
    "plt.ylabel(\"# of courses with this name\")"
   ]
  },
  {
   "cell_type": "code",
   "execution_count": 39,
   "metadata": {
    "colab": {
     "base_uri": "https://localhost:8080/"
    },
    "id": "05dsGAgo7H18",
    "outputId": "71901397-65d8-4b3d-b100-2dd09ec83979"
   },
   "outputs": [
    {
     "name": "stdout",
     "output_type": "stream",
     "text": [
      "All courses with name: AWS Certified Solutions Architect Associate Practice Exams\n",
      " (the course with the most identical titles)\n"
     ]
    }
   ],
   "source": [
    "print(f\"All courses with name: {df['title'].value_counts().loc[df['title'].value_counts() > 1].nlargest(1).index[0]}\\n (the course with the most identical titles)\")"
   ]
  },
  {
   "cell_type": "code",
   "execution_count": 40,
   "metadata": {
    "id": "ozGUA8r66vwI"
   },
   "outputs": [],
   "source": [
    "most_frequent_course_instances= df.loc[df['title'] == df['title'].value_counts().loc[df['title'].value_counts() > 1].nlargest(1).index[0]]"
   ]
  },
  {
   "cell_type": "code",
   "execution_count": 41,
   "metadata": {
    "colab": {
     "base_uri": "https://localhost:8080/"
    },
    "id": "3-HcCMIQ7XDs",
    "outputId": "869c721a-0a87-4de3-e1a4-bc469d7ac63c"
   },
   "outputs": [
    {
     "data": {
      "text/plain": [
       "13634   2018-01-22 01:22:04+00:00\n",
       "13713   2018-08-27 02:20:35+00:00\n",
       "17107   2020-01-02 06:14:20+00:00\n",
       "17264   2020-05-12 06:34:26+00:00\n",
       "19582   2020-01-28 22:56:56+00:00\n",
       "Name: created, dtype: datetime64[ns, UTC]"
      ]
     },
     "execution_count": 41,
     "metadata": {},
     "output_type": "execute_result"
    }
   ],
   "source": [
    "most_frequent_course_instances['created']"
   ]
  },
  {
   "cell_type": "markdown",
   "metadata": {},
   "source": [
    "We see that the course was was created twice in 2018 (summer and winter semester?)\n",
    "twice in jan of 2020, might be an artefact"
   ]
  },
  {
   "cell_type": "code",
   "execution_count": 42,
   "metadata": {
    "colab": {
     "base_uri": "https://localhost:8080/"
    },
    "id": "sPuXCiAs4STr",
    "outputId": "4687579c-7dda-4ec5-c48d-340742eaa8b8"
   },
   "outputs": [
    {
     "data": {
      "text/plain": [
       "False"
      ]
     },
     "execution_count": 42,
     "metadata": {},
     "output_type": "execute_result"
    }
   ],
   "source": [
    "(df['url'].duplicated()).any()"
   ]
  },
  {
   "cell_type": "markdown",
   "metadata": {},
   "source": [
    "No duplicated urls.\n",
    "\n",
    "Example of two different urls for the AWS course:"
   ]
  },
  {
   "cell_type": "code",
   "execution_count": 43,
   "metadata": {
    "colab": {
     "base_uri": "https://localhost:8080/",
     "height": 36
    },
    "id": "Fo9mh1IlxO54",
    "outputId": "ec44f76c-769b-4023-d91d-0ff8b1b2a50a"
   },
   "outputs": [
    {
     "data": {
      "text/plain": [
       "'/course/aws-certified-cloud-practitioner-practice-exams-amazon/'"
      ]
     },
     "execution_count": 43,
     "metadata": {},
     "output_type": "execute_result"
    }
   ],
   "source": [
    "df.loc[ df['title'] == df.loc[ 18168, 'title']]['url'][14054]"
   ]
  },
  {
   "cell_type": "code",
   "execution_count": 44,
   "metadata": {
    "colab": {
     "base_uri": "https://localhost:8080/",
     "height": 36
    },
    "id": "pjfPSOQ6xFE1",
    "outputId": "0a10fb03-86a3-4feb-a43b-fdcdeab4328e"
   },
   "outputs": [
    {
     "data": {
      "text/plain": [
       "'/course/aws-certified-cloud-practitioner-practice-exam-o/'"
      ]
     },
     "execution_count": 44,
     "metadata": {},
     "output_type": "execute_result"
    }
   ],
   "source": [
    "df.loc[ df['title'] == df.loc[ 18168, 'title']]['url'][18168]\n"
   ]
  },
  {
   "cell_type": "markdown",
   "metadata": {
    "id": "b52Qny3v73Gv"
   },
   "source": [
    "## Published_date - created_date distribution"
   ]
  },
  {
   "cell_type": "code",
   "execution_count": 45,
   "metadata": {
    "colab": {
     "base_uri": "https://localhost:8080/",
     "height": 457
    },
    "id": "FKteDE3X78OP",
    "outputId": "6b4ce47d-376c-45a3-fdde-e24f5208f5b4"
   },
   "outputs": [],
   "source": [
    "date_diff = (df['published_time'] - df['created']).dt.days"
   ]
  },
  {
   "cell_type": "code",
   "execution_count": 46,
   "metadata": {
    "colab": {
     "base_uri": "https://localhost:8080/"
    },
    "id": "Ik5WQMWp8KG-",
    "outputId": "d1f91a6a-b2cc-4992-fba1-bf6ee1c63ff9"
   },
   "outputs": [
    {
     "data": {
      "text/plain": [
       "count    22853.000000\n",
       "mean        49.519275\n",
       "std        124.580745\n",
       "min         -1.000000\n",
       "25%          3.000000\n",
       "50%         12.000000\n",
       "75%         40.000000\n",
       "max       2186.000000\n",
       "dtype: float64"
      ]
     },
     "execution_count": 46,
     "metadata": {},
     "output_type": "execute_result"
    }
   ],
   "source": [
    "date_diff.describe()"
   ]
  },
  {
   "cell_type": "markdown",
   "metadata": {
    "id": "9U6ZqC2g8tla"
   },
   "source": [
    "Mean is 50, but Median (0.5 quantile) is more robust towards outliers -> on average we could say that 12 days passes between course creation and course publishing.\n",
    "\n",
    "There is -1??? (published one day before created)"
   ]
  },
  {
   "cell_type": "code",
   "execution_count": 47,
   "metadata": {
    "colab": {
     "base_uri": "https://localhost:8080/",
     "height": 295
    },
    "id": "ILY5R6H78syL",
    "outputId": "3faa8774-ab08-4598-9c9e-ee77e51109e0"
   },
   "outputs": [
    {
     "data": {
      "text/html": [
       "<div>\n",
       "<style scoped>\n",
       "    .dataframe tbody tr th:only-of-type {\n",
       "        vertical-align: middle;\n",
       "    }\n",
       "\n",
       "    .dataframe tbody tr th {\n",
       "        vertical-align: top;\n",
       "    }\n",
       "\n",
       "    .dataframe thead th {\n",
       "        text-align: right;\n",
       "    }\n",
       "</style>\n",
       "<table border=\"1\" class=\"dataframe\">\n",
       "  <thead>\n",
       "    <tr style=\"text-align: right;\">\n",
       "      <th></th>\n",
       "      <th>id</th>\n",
       "      <th>title</th>\n",
       "      <th>url</th>\n",
       "      <th>is_paid</th>\n",
       "      <th>num_subscribers</th>\n",
       "      <th>avg_rating</th>\n",
       "      <th>avg_rating_recent</th>\n",
       "      <th>rating</th>\n",
       "      <th>num_reviews</th>\n",
       "      <th>is_wishlisted</th>\n",
       "      <th>...</th>\n",
       "      <th>discount_price__currency</th>\n",
       "      <th>discount_price__price_string</th>\n",
       "      <th>price_detail__amount</th>\n",
       "      <th>price_detail__currency</th>\n",
       "      <th>price_detail__price_string</th>\n",
       "      <th>created_int</th>\n",
       "      <th>published_time_int</th>\n",
       "      <th>is_beginner</th>\n",
       "      <th>is_advanced</th>\n",
       "      <th>days_since_last_published</th>\n",
       "    </tr>\n",
       "  </thead>\n",
       "  <tbody>\n",
       "    <tr>\n",
       "      <th>686</th>\n",
       "      <td>2762</td>\n",
       "      <td>Simple Strategy for Swing Trading the Stock Ma...</td>\n",
       "      <td>/course/swing-trading-the-stock-market/</td>\n",
       "      <td>True</td>\n",
       "      <td>2268</td>\n",
       "      <td>4.21642</td>\n",
       "      <td>4.22936</td>\n",
       "      <td>4.22936</td>\n",
       "      <td>674</td>\n",
       "      <td>False</td>\n",
       "      <td>...</td>\n",
       "      <td>INR</td>\n",
       "      <td>₹468</td>\n",
       "      <td>2560.0</td>\n",
       "      <td>INR</td>\n",
       "      <td>₹2,560</td>\n",
       "      <td>1271280766000000000</td>\n",
       "      <td>1271262766000000000</td>\n",
       "      <td>False</td>\n",
       "      <td>False</td>\n",
       "      <td>3801</td>\n",
       "    </tr>\n",
       "  </tbody>\n",
       "</table>\n",
       "<p>1 rows × 25 columns</p>\n",
       "</div>"
      ],
      "text/plain": [
       "       id                                              title  \\\n",
       "686  2762  Simple Strategy for Swing Trading the Stock Ma...   \n",
       "\n",
       "                                         url  is_paid  num_subscribers  \\\n",
       "686  /course/swing-trading-the-stock-market/     True             2268   \n",
       "\n",
       "     avg_rating  avg_rating_recent   rating  num_reviews  is_wishlisted  ...  \\\n",
       "686     4.21642            4.22936  4.22936          674          False  ...   \n",
       "\n",
       "     discount_price__currency  discount_price__price_string  \\\n",
       "686                       INR                          ₹468   \n",
       "\n",
       "    price_detail__amount price_detail__currency  price_detail__price_string  \\\n",
       "686               2560.0                    INR                      ₹2,560   \n",
       "\n",
       "             created_int   published_time_int  is_beginner is_advanced  \\\n",
       "686  1271280766000000000  1271262766000000000        False       False   \n",
       "\n",
       "    days_since_last_published  \n",
       "686                      3801  \n",
       "\n",
       "[1 rows x 25 columns]"
      ]
     },
     "execution_count": 47,
     "metadata": {},
     "output_type": "execute_result"
    }
   ],
   "source": [
    "df.loc[date_diff == -1]"
   ]
  },
  {
   "cell_type": "markdown",
   "metadata": {
    "id": "WvIkBlc09dsL"
   },
   "source": [
    "Following is the distribution of the duration between publishing and course creation (y on the log scale)"
   ]
  },
  {
   "cell_type": "code",
   "execution_count": 48,
   "metadata": {
    "colab": {
     "base_uri": "https://localhost:8080/",
     "height": 297
    },
    "id": "c5UmhBip8-yv",
    "outputId": "821e8681-69f7-4e21-a309-f5942f20efb1"
   },
   "outputs": [
    {
     "data": {
      "text/plain": [
       "Text(0, 0.5, 'Frequency')"
      ]
     },
     "execution_count": 48,
     "metadata": {},
     "output_type": "execute_result"
    },
    {
     "data": {
      "image/png": "[encoded data removed]",
      "text/plain": [
       "<Figure size 432x288 with 1 Axes>"
      ]
     },
     "metadata": {
      "needs_background": "light"
     },
     "output_type": "display_data"
    }
   ],
   "source": [
    "date_diff.hist( log=True)\n",
    "plt.xlabel('Days')\n",
    "plt.ylabel('Frequency')"
   ]
  },
  {
   "cell_type": "markdown",
   "metadata": {
    "id": "61t6DJuTANa5"
   },
   "source": [
    "## Avg num of subscribers / rating for paid vs free courses"
   ]
  },
  {
   "cell_type": "code",
   "execution_count": 49,
   "metadata": {
    "colab": {
     "base_uri": "https://localhost:8080/",
     "height": 313
    },
    "id": "QrcPIylaAcO8",
    "outputId": "2478e06c-f74e-4c82-b6fc-b37be46138d7"
   },
   "outputs": [
    {
     "data": {
      "text/plain": [
       "([<matplotlib.axis.XTick at 0x23d4e6d48e0>,\n",
       "  <matplotlib.axis.XTick at 0x23d4e6d48b0>],\n",
       " [Text(0, 0, 'Free'), Text(1, 0, 'Paid')])"
      ]
     },
     "execution_count": 49,
     "metadata": {},
     "output_type": "execute_result"
    },
    {
     "data": {
      "image/png": "[encoded data removed]",
      "text/plain": [
       "<Figure size 432x288 with 1 Axes>"
      ]
     },
     "metadata": {
      "needs_background": "light"
     },
     "output_type": "display_data"
    }
   ],
   "source": [
    "df.groupby(df[\"is_paid\"])['num_subscribers'].mean().plot(kind=\"bar\", legend=False)\n",
    "plt.ylabel(\"Average Number of subscribers\")\n",
    "plt.xticks(ticks=[0, 1] , labels=['Free', 'Paid'])"
   ]
  },
  {
   "cell_type": "code",
   "execution_count": 50,
   "metadata": {
    "colab": {
     "base_uri": "https://localhost:8080/",
     "height": 313
    },
    "id": "6h4X4VLzCD-k",
    "outputId": "3d115541-09a9-4ec2-89e1-8b09bafa58b6"
   },
   "outputs": [
    {
     "data": {
      "text/plain": [
       "([<matplotlib.axis.XTick at 0x23d5392b850>,\n",
       "  <matplotlib.axis.XTick at 0x23d5392b820>],\n",
       " [Text(0, 0, 'Free'), Text(1, 0, 'Paid')])"
      ]
     },
     "execution_count": 50,
     "metadata": {},
     "output_type": "execute_result"
    },
    {
     "data": {
      "image/png": "[encoded data removed]",
      "text/plain": [
       "<Figure size 432x288 with 1 Axes>"
      ]
     },
     "metadata": {
      "needs_background": "light"
     },
     "output_type": "display_data"
    }
   ],
   "source": [
    "df.groupby(df[\"is_paid\"])['avg_rating'].mean().plot(kind=\"bar\", legend=False)\n",
    "plt.ylabel(\"Mean Average Rating\")\n",
    "plt.xticks(ticks=[0, 1] , labels=['Free', 'Paid'])"
   ]
  },
  {
   "cell_type": "markdown",
   "metadata": {
    "id": "0YpZWqi8CQaq"
   },
   "source": [
    "On average free courses have around two times more subscribers than paid courses, while both paid and free courses have approximately equal mean average ratings. (Mean average because the `avg_rating` is already an average)"
   ]
  },
  {
   "cell_type": "markdown",
   "metadata": {
    "id": "KngxkKjnI_ap"
   },
   "source": [
    "### Courses with no subscribers"
   ]
  },
  {
   "cell_type": "markdown",
   "metadata": {},
   "source": [
    "How many:"
   ]
  },
  {
   "cell_type": "code",
   "execution_count": 51,
   "metadata": {},
   "outputs": [
    {
     "data": {
      "text/plain": [
       "215"
      ]
     },
     "execution_count": 51,
     "metadata": {},
     "output_type": "execute_result"
    }
   ],
   "source": [
    "df.loc[df[\"num_subscribers\"] < 1].shape[0]"
   ]
  },
  {
   "cell_type": "markdown",
   "metadata": {},
   "source": [
    "When were these courses created:"
   ]
  },
  {
   "cell_type": "code",
   "execution_count": 52,
   "metadata": {},
   "outputs": [
    {
     "data": {
      "text/plain": [
       "Text(0, 0.5, 'Number of courses with no subscribers')"
      ]
     },
     "execution_count": 52,
     "metadata": {},
     "output_type": "execute_result"
    },
    {
     "data": {
      "image/png": "[encoded data removed]",
      "text/plain": [
       "<Figure size 432x288 with 1 Axes>"
      ]
     },
     "metadata": {
      "needs_background": "light"
     },
     "output_type": "display_data"
    }
   ],
   "source": [
    "no_subs = df.loc[df[\"num_subscribers\"] < 1]\n",
    "df.groupby(no_subs[\"published_time\"].dt.year)['id'].count().plot(kind=\"bar\", legend=False)\n",
    "plt.ylabel('Number of courses with no subscribers')"
   ]
  },
  {
   "cell_type": "markdown",
   "metadata": {},
   "source": [
    "What percentage of courses from 2020 have 0 subscribers:"
   ]
  },
  {
   "cell_type": "code",
   "execution_count": 53,
   "metadata": {},
   "outputs": [
    {
     "name": "stdout",
     "output_type": "stream",
     "text": [
      "3.34 %\n"
     ]
    }
   ],
   "source": [
    "ratio_no_subs_in2020 = no_subs[\"published_time\"].dt.year.value_counts()[2020]/df[\"published_time\"].dt.year.value_counts()[2020]\n",
    "print(f'{np.round(ratio_no_subs_in2020 * 100, 2)} %')"
   ]
  },
  {
   "cell_type": "markdown",
   "metadata": {},
   "source": [
    "Rows that have no subscribers but at least one review:"
   ]
  },
  {
   "cell_type": "code",
   "execution_count": 54,
   "metadata": {
    "colab": {
     "base_uri": "https://localhost:8080/",
     "height": 564
    },
    "id": "FAH6G2rgKLih",
    "outputId": "22713eac-75b4-47fa-e6d5-d051b494ee98"
   },
   "outputs": [
    {
     "name": "stderr",
     "output_type": "stream",
     "text": [
      "<ipython-input-54-01bd099cb5b5>:1: UserWarning: Boolean Series key will be reindexed to match DataFrame index.\n",
      "  df.loc[df[\"num_subscribers\"] < 1][df[\"num_reviews\"] >= 1]\n"
     ]
    },
    {
     "data": {
      "text/html": [
       "<div>\n",
       "<style scoped>\n",
       "    .dataframe tbody tr th:only-of-type {\n",
       "        vertical-align: middle;\n",
       "    }\n",
       "\n",
       "    .dataframe tbody tr th {\n",
       "        vertical-align: top;\n",
       "    }\n",
       "\n",
       "    .dataframe thead th {\n",
       "        text-align: right;\n",
       "    }\n",
       "</style>\n",
       "<table border=\"1\" class=\"dataframe\">\n",
       "  <thead>\n",
       "    <tr style=\"text-align: right;\">\n",
       "      <th></th>\n",
       "      <th>id</th>\n",
       "      <th>title</th>\n",
       "      <th>url</th>\n",
       "      <th>is_paid</th>\n",
       "      <th>num_subscribers</th>\n",
       "      <th>avg_rating</th>\n",
       "      <th>avg_rating_recent</th>\n",
       "      <th>rating</th>\n",
       "      <th>num_reviews</th>\n",
       "      <th>is_wishlisted</th>\n",
       "      <th>...</th>\n",
       "      <th>discount_price__currency</th>\n",
       "      <th>discount_price__price_string</th>\n",
       "      <th>price_detail__amount</th>\n",
       "      <th>price_detail__currency</th>\n",
       "      <th>price_detail__price_string</th>\n",
       "      <th>created_int</th>\n",
       "      <th>published_time_int</th>\n",
       "      <th>is_beginner</th>\n",
       "      <th>is_advanced</th>\n",
       "      <th>days_since_last_published</th>\n",
       "    </tr>\n",
       "  </thead>\n",
       "  <tbody>\n",
       "    <tr>\n",
       "      <th>10898</th>\n",
       "      <td>2542935</td>\n",
       "      <td>Learn the truth about wealth creation</td>\n",
       "      <td>/course/truth-about-wealth-creation/</td>\n",
       "      <td>True</td>\n",
       "      <td>0</td>\n",
       "      <td>3.00</td>\n",
       "      <td>3.00000</td>\n",
       "      <td>3.00000</td>\n",
       "      <td>1</td>\n",
       "      <td>False</td>\n",
       "      <td>...</td>\n",
       "      <td>INR</td>\n",
       "      <td>₹455</td>\n",
       "      <td>1280.0</td>\n",
       "      <td>INR</td>\n",
       "      <td>₹1,280</td>\n",
       "      <td>1567584063000000000</td>\n",
       "      <td>1568161438000000000</td>\n",
       "      <td>False</td>\n",
       "      <td>False</td>\n",
       "      <td>365</td>\n",
       "    </tr>\n",
       "    <tr>\n",
       "      <th>10950</th>\n",
       "      <td>3106416</td>\n",
       "      <td>Series 7 tests by topic + Full Exam</td>\n",
       "      <td>/course/series-7-tests/</td>\n",
       "      <td>True</td>\n",
       "      <td>0</td>\n",
       "      <td>5.00</td>\n",
       "      <td>5.00000</td>\n",
       "      <td>5.00000</td>\n",
       "      <td>1</td>\n",
       "      <td>False</td>\n",
       "      <td>...</td>\n",
       "      <td>NaN</td>\n",
       "      <td>NaN</td>\n",
       "      <td>2240.0</td>\n",
       "      <td>INR</td>\n",
       "      <td>₹2,240</td>\n",
       "      <td>1588994549000000000</td>\n",
       "      <td>1589747850000000000</td>\n",
       "      <td>False</td>\n",
       "      <td>False</td>\n",
       "      <td>115</td>\n",
       "    </tr>\n",
       "    <tr>\n",
       "      <th>12905</th>\n",
       "      <td>3149864</td>\n",
       "      <td>Planilha Pronta - Conciliação Bancária</td>\n",
       "      <td>/course/planilha-pronta-conciliacao-bancaria/</td>\n",
       "      <td>True</td>\n",
       "      <td>0</td>\n",
       "      <td>2.75</td>\n",
       "      <td>3.19403</td>\n",
       "      <td>3.19403</td>\n",
       "      <td>2</td>\n",
       "      <td>False</td>\n",
       "      <td>...</td>\n",
       "      <td>INR</td>\n",
       "      <td>₹455</td>\n",
       "      <td>1280.0</td>\n",
       "      <td>INR</td>\n",
       "      <td>₹1,280</td>\n",
       "      <td>1589978672000000000</td>\n",
       "      <td>1589984848000000000</td>\n",
       "      <td>False</td>\n",
       "      <td>False</td>\n",
       "      <td>112</td>\n",
       "    </tr>\n",
       "    <tr>\n",
       "      <th>13049</th>\n",
       "      <td>3428016</td>\n",
       "      <td>Forex MasterClass de Cero a Avanzado- Ejemplos...</td>\n",
       "      <td>/course/forex-masterclass-de-cero-a-avanzado-e...</td>\n",
       "      <td>True</td>\n",
       "      <td>0</td>\n",
       "      <td>5.00</td>\n",
       "      <td>5.00000</td>\n",
       "      <td>5.00000</td>\n",
       "      <td>1</td>\n",
       "      <td>False</td>\n",
       "      <td>...</td>\n",
       "      <td>NaN</td>\n",
       "      <td>NaN</td>\n",
       "      <td>12800.0</td>\n",
       "      <td>INR</td>\n",
       "      <td>₹12,800</td>\n",
       "      <td>1597708770000000000</td>\n",
       "      <td>1598045671000000000</td>\n",
       "      <td>False</td>\n",
       "      <td>True</td>\n",
       "      <td>19</td>\n",
       "    </tr>\n",
       "  </tbody>\n",
       "</table>\n",
       "<p>4 rows × 25 columns</p>\n",
       "</div>"
      ],
      "text/plain": [
       "            id                                              title  \\\n",
       "10898  2542935              Learn the truth about wealth creation   \n",
       "10950  3106416                Series 7 tests by topic + Full Exam   \n",
       "12905  3149864             Planilha Pronta - Conciliação Bancária   \n",
       "13049  3428016  Forex MasterClass de Cero a Avanzado- Ejemplos...   \n",
       "\n",
       "                                                     url  is_paid  \\\n",
       "10898               /course/truth-about-wealth-creation/     True   \n",
       "10950                            /course/series-7-tests/     True   \n",
       "12905      /course/planilha-pronta-conciliacao-bancaria/     True   \n",
       "13049  /course/forex-masterclass-de-cero-a-avanzado-e...     True   \n",
       "\n",
       "       num_subscribers  avg_rating  avg_rating_recent   rating  num_reviews  \\\n",
       "10898                0        3.00            3.00000  3.00000            1   \n",
       "10950                0        5.00            5.00000  5.00000            1   \n",
       "12905                0        2.75            3.19403  3.19403            2   \n",
       "13049                0        5.00            5.00000  5.00000            1   \n",
       "\n",
       "       is_wishlisted  ...  discount_price__currency  \\\n",
       "10898          False  ...                       INR   \n",
       "10950          False  ...                       NaN   \n",
       "12905          False  ...                       INR   \n",
       "13049          False  ...                       NaN   \n",
       "\n",
       "       discount_price__price_string price_detail__amount  \\\n",
       "10898                          ₹455               1280.0   \n",
       "10950                           NaN               2240.0   \n",
       "12905                          ₹455               1280.0   \n",
       "13049                           NaN              12800.0   \n",
       "\n",
       "      price_detail__currency  price_detail__price_string          created_int  \\\n",
       "10898                    INR                      ₹1,280  1567584063000000000   \n",
       "10950                    INR                      ₹2,240  1588994549000000000   \n",
       "12905                    INR                      ₹1,280  1589978672000000000   \n",
       "13049                    INR                     ₹12,800  1597708770000000000   \n",
       "\n",
       "        published_time_int  is_beginner is_advanced days_since_last_published  \n",
       "10898  1568161438000000000        False       False                       365  \n",
       "10950  1589747850000000000        False       False                       115  \n",
       "12905  1589984848000000000        False       False                       112  \n",
       "13049  1598045671000000000        False        True                        19  \n",
       "\n",
       "[4 rows x 25 columns]"
      ]
     },
     "execution_count": 54,
     "metadata": {},
     "output_type": "execute_result"
    }
   ],
   "source": [
    "df.loc[df[\"num_subscribers\"] < 1][df[\"num_reviews\"] >= 1]"
   ]
  },
  {
   "cell_type": "markdown",
   "metadata": {},
   "source": [
    "Since there are only few of such rows, we assume a user cannot unsubscribe from the course. Therefore we will remove them and consider them as outliers."
   ]
  },
  {
   "cell_type": "code",
   "execution_count": 55,
   "metadata": {},
   "outputs": [
    {
     "name": "stderr",
     "output_type": "stream",
     "text": [
      "<ipython-input-55-619d36770e94>:1: UserWarning: Boolean Series key will be reindexed to match DataFrame index.\n",
      "  outlier_indices.append(df.loc[df[\"num_subscribers\"] < 1][df[\"num_reviews\"] >= 1].index)\n"
     ]
    },
    {
     "data": {
      "text/plain": [
       "Int64Index([13607, 10898, 10950, 12905, 13049], dtype='int64')"
      ]
     },
     "execution_count": 55,
     "metadata": {},
     "output_type": "execute_result"
    }
   ],
   "source": [
    "outlier_indices.append(df.loc[df[\"num_subscribers\"] < 1][df[\"num_reviews\"] >= 1].index)"
   ]
  },
  {
   "cell_type": "markdown",
   "metadata": {
    "id": "fRu9n1QqDZcw"
   },
   "source": [
    "## Number of subscribers over the years for all courses\n",
    "\n",
    "---\n",
    "\n"
   ]
  },
  {
   "cell_type": "code",
   "execution_count": 56,
   "metadata": {
    "colab": {
     "base_uri": "https://localhost:8080/",
     "height": 325
    },
    "id": "3KKNSqx9DeCA",
    "outputId": "8e39d4af-4da4-4148-b4bb-126bfad2d3fe"
   },
   "outputs": [
    {
     "data": {
      "text/plain": [
       "Text(0, 0.5, 'Total Number of subscribers')"
      ]
     },
     "execution_count": 56,
     "metadata": {},
     "output_type": "execute_result"
    },
    {
     "data": {
      "image/png": "[encoded data removed]",
      "text/plain": [
       "<Figure size 432x288 with 1 Axes>"
      ]
     },
     "metadata": {
      "needs_background": "light"
     },
     "output_type": "display_data"
    }
   ],
   "source": [
    "df.groupby(df[\"published_time\"].dt.year)['num_subscribers'].sum().plot(kind=\"bar\", legend=False)\n",
    "plt.ylabel('Total Number of subscribers')"
   ]
  },
  {
   "cell_type": "code",
   "execution_count": 57,
   "metadata": {
    "colab": {
     "base_uri": "https://localhost:8080/",
     "height": 314
    },
    "id": "GrhhFA_3FbZD",
    "outputId": "5fdd7801-1bc4-4489-c4e4-ce05a61c013d"
   },
   "outputs": [
    {
     "data": {
      "text/plain": [
       "Text(0, 0.5, 'Average Number of subscribers')"
      ]
     },
     "execution_count": 57,
     "metadata": {},
     "output_type": "execute_result"
    },
    {
     "data": {
      "image/png": "[encoded data removed]",
      "text/plain": [
       "<Figure size 432x288 with 1 Axes>"
      ]
     },
     "metadata": {
      "needs_background": "light"
     },
     "output_type": "display_data"
    }
   ],
   "source": [
    "df.groupby(df[\"published_time\"].dt.year)['num_subscribers'].mean().plot(kind=\"bar\", legend=False)\n",
    "plt.ylabel('Average Number of subscribers')"
   ]
  },
  {
   "cell_type": "markdown",
   "metadata": {
    "id": "2Sk4IIRWFuJU"
   },
   "source": [
    "The first plot could be informative for the sales department. As expected with any company, after reaching the saturation of users, the total number of subscribers per year does not change drastically after a certain point.\n",
    " \n",
    "Second, not so sure where it could be used. Maybe to analyze the average course quality over the years. i.e. maybe the content of the courses from 2013 and 2016 was of higher quality on average than for other years"
   ]
  },
  {
   "cell_type": "code",
   "execution_count": 58,
   "metadata": {},
   "outputs": [
    {
     "data": {
      "text/plain": [
       "Text(0, 0.5, 'Number of courses')"
      ]
     },
     "execution_count": 58,
     "metadata": {},
     "output_type": "execute_result"
    },
    {
     "data": {
      "image/png": "[encoded data removed]",
      "text/plain": [
       "<Figure size 432x288 with 1 Axes>"
      ]
     },
     "metadata": {
      "needs_background": "light"
     },
     "output_type": "display_data"
    }
   ],
   "source": [
    "df.groupby(df[\"published_time\"].dt.month)['id'].count().plot(kind=\"bar\", legend=False)\n",
    "plt.ylabel('Number of courses')"
   ]
  },
  {
   "cell_type": "markdown",
   "metadata": {},
   "source": [
    "### Rating and related attributes"
   ]
  },
  {
   "cell_type": "markdown",
   "metadata": {},
   "source": [
    "Here the highly correlated attributes: `avg_rating`, `avg_rating_recent` and `rating` are examined and the decision is made which one should be selected for modeling. "
   ]
  },
  {
   "cell_type": "code",
   "execution_count": 59,
   "metadata": {},
   "outputs": [
    {
     "data": {
      "text/html": [
       "<div>\n",
       "<style scoped>\n",
       "    .dataframe tbody tr th:only-of-type {\n",
       "        vertical-align: middle;\n",
       "    }\n",
       "\n",
       "    .dataframe tbody tr th {\n",
       "        vertical-align: top;\n",
       "    }\n",
       "\n",
       "    .dataframe thead th {\n",
       "        text-align: right;\n",
       "    }\n",
       "</style>\n",
       "<table border=\"1\" class=\"dataframe\">\n",
       "  <thead>\n",
       "    <tr style=\"text-align: right;\">\n",
       "      <th></th>\n",
       "      <th>avg_rating</th>\n",
       "      <th>avg_rating_recent</th>\n",
       "      <th>rating</th>\n",
       "    </tr>\n",
       "  </thead>\n",
       "  <tbody>\n",
       "    <tr>\n",
       "      <th>count</th>\n",
       "      <td>22853.000000</td>\n",
       "      <td>22853.000000</td>\n",
       "      <td>22853.000000</td>\n",
       "    </tr>\n",
       "    <tr>\n",
       "      <th>mean</th>\n",
       "      <td>3.952356</td>\n",
       "      <td>3.937739</td>\n",
       "      <td>3.937739</td>\n",
       "    </tr>\n",
       "    <tr>\n",
       "      <th>std</th>\n",
       "      <td>0.875152</td>\n",
       "      <td>0.888605</td>\n",
       "      <td>0.888605</td>\n",
       "    </tr>\n",
       "    <tr>\n",
       "      <th>min</th>\n",
       "      <td>0.000000</td>\n",
       "      <td>0.000000</td>\n",
       "      <td>0.000000</td>\n",
       "    </tr>\n",
       "    <tr>\n",
       "      <th>25%</th>\n",
       "      <td>3.750000</td>\n",
       "      <td>3.732460</td>\n",
       "      <td>3.732460</td>\n",
       "    </tr>\n",
       "    <tr>\n",
       "      <th>50%</th>\n",
       "      <td>4.150000</td>\n",
       "      <td>4.148680</td>\n",
       "      <td>4.148680</td>\n",
       "    </tr>\n",
       "    <tr>\n",
       "      <th>75%</th>\n",
       "      <td>4.435480</td>\n",
       "      <td>4.433520</td>\n",
       "      <td>4.433520</td>\n",
       "    </tr>\n",
       "    <tr>\n",
       "      <th>max</th>\n",
       "      <td>5.000000</td>\n",
       "      <td>5.000000</td>\n",
       "      <td>5.000000</td>\n",
       "    </tr>\n",
       "  </tbody>\n",
       "</table>\n",
       "</div>"
      ],
      "text/plain": [
       "         avg_rating  avg_rating_recent        rating\n",
       "count  22853.000000       22853.000000  22853.000000\n",
       "mean       3.952356           3.937739      3.937739\n",
       "std        0.875152           0.888605      0.888605\n",
       "min        0.000000           0.000000      0.000000\n",
       "25%        3.750000           3.732460      3.732460\n",
       "50%        4.150000           4.148680      4.148680\n",
       "75%        4.435480           4.433520      4.433520\n",
       "max        5.000000           5.000000      5.000000"
      ]
     },
     "execution_count": 59,
     "metadata": {},
     "output_type": "execute_result"
    }
   ],
   "source": [
    "df[['avg_rating', 'avg_rating_recent', 'rating'\n",
    "   ]].describe()"
   ]
  },
  {
   "cell_type": "markdown",
   "metadata": {},
   "source": [
    "Since all three have the same range, we can select either the `rating` or `avg_rating_recent` based on the variance, as it can be an indicator for information content. `rating` will be selected."
   ]
  },
  {
   "cell_type": "markdown",
   "metadata": {
    "id": "TTCYIjgoPpqM"
   },
   "source": [
    "### Correlation matrix after adding the derived attributes"
   ]
  },
  {
   "cell_type": "code",
   "execution_count": 60,
   "metadata": {
    "id": "mtIrHkTKB-us"
   },
   "outputs": [],
   "source": [
    "corr = df.drop(columns=['id']).corr(method='spearman').round(1)"
   ]
  },
  {
   "cell_type": "code",
   "execution_count": 61,
   "metadata": {
    "colab": {
     "base_uri": "https://localhost:8080/",
     "height": 808
    },
    "id": "dXteZ5K-C5v-",
    "outputId": "f73bcde3-08e9-4d8e-9b41-be1400cc2c27"
   },
   "outputs": [
    {
     "data": {
      "text/plain": [
       "<AxesSubplot:>"
      ]
     },
     "execution_count": 61,
     "metadata": {},
     "output_type": "execute_result"
    },
    {
     "data": {
      "image/png": "[encoded data removed]",
      "text/plain": [
       "<Figure size 800x800 with 2 Axes>"
      ]
     },
     "metadata": {
      "needs_background": "light"
     },
     "output_type": "display_data"
    }
   ],
   "source": [
    "plt.figure(figsize=(8, 8), dpi=100)\n",
    "\n",
    "sns.heatmap(corr,annot=True,xticklabels=True, cmap='Blues')"
   ]
  },
  {
   "cell_type": "markdown",
   "metadata": {},
   "source": [
    "## Modeling"
   ]
  },
  {
   "cell_type": "markdown",
   "metadata": {},
   "source": [
    "### Removing the 5 outliers"
   ]
  },
  {
   "cell_type": "code",
   "execution_count": 63,
   "metadata": {},
   "outputs": [],
   "source": [
    "df = df.drop(outlier_indices)"
   ]
  },
  {
   "cell_type": "markdown",
   "metadata": {},
   "source": [
    "## Splitting the data"
   ]
  },
  {
   "cell_type": "code",
   "execution_count": 64,
   "metadata": {},
   "outputs": [
    {
     "name": "stdout",
     "output_type": "stream",
     "text": [
      "For testing: 4570\n"
     ]
    }
   ],
   "source": [
    "# sorted by days_since_last_published (ascending) \n",
    "sorted = df.sort_values('days_since_last_published').reset_index(drop=True)\n",
    "\n",
    "num_of_obs_for_testing = int(np.round(sorted.shape[0] * 0.2))\n",
    "print(f\"For testing: {num_of_obs_for_testing}\")\n",
    "\n",
    "test_set = sorted.iloc[:num_of_obs_for_testing, :]\n",
    "rest = sorted.iloc[num_of_obs_for_testing:, :]\n",
    "\n",
    "X_test = test_set.drop(columns='num_subscribers')\n",
    "y_test = test_set['num_subscribers']"
   ]
  },
  {
   "cell_type": "code",
   "execution_count": 65,
   "metadata": {},
   "outputs": [
    {
     "data": {
      "text/plain": [
       "0      2020-09-10 06:31:11+00:00\n",
       "1      2020-09-08 20:22:19+00:00\n",
       "2      2020-09-09 02:11:42+00:00\n",
       "3      2020-09-08 19:55:04+00:00\n",
       "4      2020-09-08 21:12:24+00:00\n",
       "                  ...           \n",
       "4565   2020-02-04 17:59:29+00:00\n",
       "4566   2020-02-04 17:57:32+00:00\n",
       "4567   2020-02-04 09:08:06+00:00\n",
       "4568   2020-02-04 17:46:41+00:00\n",
       "4569   2020-02-04 19:25:42+00:00\n",
       "Name: published_time, Length: 4570, dtype: datetime64[ns, UTC]"
      ]
     },
     "execution_count": 65,
     "metadata": {},
     "output_type": "execute_result"
    }
   ],
   "source": [
    "test_set.published_time"
   ]
  },
  {
   "cell_type": "markdown",
   "metadata": {},
   "source": [
    "In testing set: observations from 04.02.2020 until 10.09.2020"
   ]
  },
  {
   "cell_type": "code",
   "execution_count": 66,
   "metadata": {},
   "outputs": [],
   "source": [
    "from sklearn.model_selection import train_test_split\n",
    "\n",
    "X = rest.drop(columns=['num_subscribers'])\n",
    "y = rest.num_subscribers\n",
    "X_train, X_valid, y_train, y_valid = train_test_split(X, y, test_size=0.33, random_state=45)"
   ]
  },
  {
   "cell_type": "markdown",
   "metadata": {},
   "source": [
    "### Cleaning the data"
   ]
  },
  {
   "cell_type": "markdown",
   "metadata": {},
   "source": [
    "Removing the constant and unique columns (id, title, url)"
   ]
  },
  {
   "cell_type": "code",
   "execution_count": 71,
   "metadata": {},
   "outputs": [
    {
     "ename": "KeyError",
     "evalue": "\"['id' 'title' 'url' 'is_wishlisted' 'avg_rating' 'avg_rating_recent'\\n 'discount_price__currency' 'discount_price__price_string'\\n 'price_detail__currency' 'price_detail__price_string'] not found in axis\"",
     "output_type": "error",
     "traceback": [
      "\u001b[1;31m---------------------------------------------------------------------------\u001b[0m",
      "\u001b[1;31mKeyError\u001b[0m                                  Traceback (most recent call last)",
      "\u001b[1;32m<ipython-input-71-1723698d0281>\u001b[0m in \u001b[0;36m<module>\u001b[1;34m\u001b[0m\n\u001b[0;32m      2\u001b[0m                     \u001b[1;34m'discount_price__currency'\u001b[0m\u001b[1;33m,\u001b[0m \u001b[1;34m'discount_price__price_string'\u001b[0m\u001b[1;33m,\u001b[0m\u001b[1;33m\u001b[0m\u001b[1;33m\u001b[0m\u001b[0m\n\u001b[0;32m      3\u001b[0m                    'price_detail__currency', 'price_detail__price_string']\n\u001b[1;32m----> 4\u001b[1;33m \u001b[0mX_train\u001b[0m \u001b[1;33m=\u001b[0m \u001b[0mX_train\u001b[0m\u001b[1;33m.\u001b[0m\u001b[0mdrop\u001b[0m\u001b[1;33m(\u001b[0m\u001b[0mcolumns\u001b[0m\u001b[1;33m=\u001b[0m\u001b[0mcolumns_to_be_removed\u001b[0m\u001b[1;33m)\u001b[0m\u001b[1;33m\u001b[0m\u001b[1;33m\u001b[0m\u001b[0m\n\u001b[0m\u001b[0;32m      5\u001b[0m \u001b[0mX_valid\u001b[0m \u001b[1;33m=\u001b[0m \u001b[0mX_valid\u001b[0m\u001b[1;33m.\u001b[0m\u001b[0mdrop\u001b[0m\u001b[1;33m(\u001b[0m\u001b[0mcolumns\u001b[0m\u001b[1;33m=\u001b[0m\u001b[0mcolumns_to_be_removed\u001b[0m\u001b[1;33m)\u001b[0m\u001b[1;33m\u001b[0m\u001b[1;33m\u001b[0m\u001b[0m\n\u001b[0;32m      6\u001b[0m \u001b[0mX_test\u001b[0m \u001b[1;33m=\u001b[0m \u001b[0mX_test\u001b[0m\u001b[1;33m.\u001b[0m\u001b[0mdrop\u001b[0m\u001b[1;33m(\u001b[0m\u001b[0mcolumns\u001b[0m\u001b[1;33m=\u001b[0m\u001b[0mcolumns_to_be_removed\u001b[0m\u001b[1;33m)\u001b[0m\u001b[1;33m\u001b[0m\u001b[1;33m\u001b[0m\u001b[0m\n",
      "\u001b[1;32mD:\\Anaconda\\lib\\site-packages\\pandas\\core\\frame.py\u001b[0m in \u001b[0;36mdrop\u001b[1;34m(self, labels, axis, index, columns, level, inplace, errors)\u001b[0m\n\u001b[0;32m   4306\u001b[0m                 \u001b[0mweight\u001b[0m  \u001b[1;36m1.0\u001b[0m     \u001b[1;36m0.8\u001b[0m\u001b[1;33m\u001b[0m\u001b[1;33m\u001b[0m\u001b[0m\n\u001b[0;32m   4307\u001b[0m         \"\"\"\n\u001b[1;32m-> 4308\u001b[1;33m         return super().drop(\n\u001b[0m\u001b[0;32m   4309\u001b[0m             \u001b[0mlabels\u001b[0m\u001b[1;33m=\u001b[0m\u001b[0mlabels\u001b[0m\u001b[1;33m,\u001b[0m\u001b[1;33m\u001b[0m\u001b[1;33m\u001b[0m\u001b[0m\n\u001b[0;32m   4310\u001b[0m             \u001b[0maxis\u001b[0m\u001b[1;33m=\u001b[0m\u001b[0maxis\u001b[0m\u001b[1;33m,\u001b[0m\u001b[1;33m\u001b[0m\u001b[1;33m\u001b[0m\u001b[0m\n",
      "\u001b[1;32mD:\\Anaconda\\lib\\site-packages\\pandas\\core\\generic.py\u001b[0m in \u001b[0;36mdrop\u001b[1;34m(self, labels, axis, index, columns, level, inplace, errors)\u001b[0m\n\u001b[0;32m   4151\u001b[0m         \u001b[1;32mfor\u001b[0m \u001b[0maxis\u001b[0m\u001b[1;33m,\u001b[0m \u001b[0mlabels\u001b[0m \u001b[1;32min\u001b[0m \u001b[0maxes\u001b[0m\u001b[1;33m.\u001b[0m\u001b[0mitems\u001b[0m\u001b[1;33m(\u001b[0m\u001b[1;33m)\u001b[0m\u001b[1;33m:\u001b[0m\u001b[1;33m\u001b[0m\u001b[1;33m\u001b[0m\u001b[0m\n\u001b[0;32m   4152\u001b[0m             \u001b[1;32mif\u001b[0m \u001b[0mlabels\u001b[0m \u001b[1;32mis\u001b[0m \u001b[1;32mnot\u001b[0m \u001b[1;32mNone\u001b[0m\u001b[1;33m:\u001b[0m\u001b[1;33m\u001b[0m\u001b[1;33m\u001b[0m\u001b[0m\n\u001b[1;32m-> 4153\u001b[1;33m                 \u001b[0mobj\u001b[0m \u001b[1;33m=\u001b[0m \u001b[0mobj\u001b[0m\u001b[1;33m.\u001b[0m\u001b[0m_drop_axis\u001b[0m\u001b[1;33m(\u001b[0m\u001b[0mlabels\u001b[0m\u001b[1;33m,\u001b[0m \u001b[0maxis\u001b[0m\u001b[1;33m,\u001b[0m \u001b[0mlevel\u001b[0m\u001b[1;33m=\u001b[0m\u001b[0mlevel\u001b[0m\u001b[1;33m,\u001b[0m \u001b[0merrors\u001b[0m\u001b[1;33m=\u001b[0m\u001b[0merrors\u001b[0m\u001b[1;33m)\u001b[0m\u001b[1;33m\u001b[0m\u001b[1;33m\u001b[0m\u001b[0m\n\u001b[0m\u001b[0;32m   4154\u001b[0m \u001b[1;33m\u001b[0m\u001b[0m\n\u001b[0;32m   4155\u001b[0m         \u001b[1;32mif\u001b[0m \u001b[0minplace\u001b[0m\u001b[1;33m:\u001b[0m\u001b[1;33m\u001b[0m\u001b[1;33m\u001b[0m\u001b[0m\n",
      "\u001b[1;32mD:\\Anaconda\\lib\\site-packages\\pandas\\core\\generic.py\u001b[0m in \u001b[0;36m_drop_axis\u001b[1;34m(self, labels, axis, level, errors)\u001b[0m\n\u001b[0;32m   4186\u001b[0m                 \u001b[0mnew_axis\u001b[0m \u001b[1;33m=\u001b[0m \u001b[0maxis\u001b[0m\u001b[1;33m.\u001b[0m\u001b[0mdrop\u001b[0m\u001b[1;33m(\u001b[0m\u001b[0mlabels\u001b[0m\u001b[1;33m,\u001b[0m \u001b[0mlevel\u001b[0m\u001b[1;33m=\u001b[0m\u001b[0mlevel\u001b[0m\u001b[1;33m,\u001b[0m \u001b[0merrors\u001b[0m\u001b[1;33m=\u001b[0m\u001b[0merrors\u001b[0m\u001b[1;33m)\u001b[0m\u001b[1;33m\u001b[0m\u001b[1;33m\u001b[0m\u001b[0m\n\u001b[0;32m   4187\u001b[0m             \u001b[1;32melse\u001b[0m\u001b[1;33m:\u001b[0m\u001b[1;33m\u001b[0m\u001b[1;33m\u001b[0m\u001b[0m\n\u001b[1;32m-> 4188\u001b[1;33m                 \u001b[0mnew_axis\u001b[0m \u001b[1;33m=\u001b[0m \u001b[0maxis\u001b[0m\u001b[1;33m.\u001b[0m\u001b[0mdrop\u001b[0m\u001b[1;33m(\u001b[0m\u001b[0mlabels\u001b[0m\u001b[1;33m,\u001b[0m \u001b[0merrors\u001b[0m\u001b[1;33m=\u001b[0m\u001b[0merrors\u001b[0m\u001b[1;33m)\u001b[0m\u001b[1;33m\u001b[0m\u001b[1;33m\u001b[0m\u001b[0m\n\u001b[0m\u001b[0;32m   4189\u001b[0m             \u001b[0mresult\u001b[0m \u001b[1;33m=\u001b[0m \u001b[0mself\u001b[0m\u001b[1;33m.\u001b[0m\u001b[0mreindex\u001b[0m\u001b[1;33m(\u001b[0m\u001b[1;33m**\u001b[0m\u001b[1;33m{\u001b[0m\u001b[0maxis_name\u001b[0m\u001b[1;33m:\u001b[0m \u001b[0mnew_axis\u001b[0m\u001b[1;33m}\u001b[0m\u001b[1;33m)\u001b[0m\u001b[1;33m\u001b[0m\u001b[1;33m\u001b[0m\u001b[0m\n\u001b[0;32m   4190\u001b[0m \u001b[1;33m\u001b[0m\u001b[0m\n",
      "\u001b[1;32mD:\\Anaconda\\lib\\site-packages\\pandas\\core\\indexes\\base.py\u001b[0m in \u001b[0;36mdrop\u001b[1;34m(self, labels, errors)\u001b[0m\n\u001b[0;32m   5589\u001b[0m         \u001b[1;32mif\u001b[0m \u001b[0mmask\u001b[0m\u001b[1;33m.\u001b[0m\u001b[0many\u001b[0m\u001b[1;33m(\u001b[0m\u001b[1;33m)\u001b[0m\u001b[1;33m:\u001b[0m\u001b[1;33m\u001b[0m\u001b[1;33m\u001b[0m\u001b[0m\n\u001b[0;32m   5590\u001b[0m             \u001b[1;32mif\u001b[0m \u001b[0merrors\u001b[0m \u001b[1;33m!=\u001b[0m \u001b[1;34m\"ignore\"\u001b[0m\u001b[1;33m:\u001b[0m\u001b[1;33m\u001b[0m\u001b[1;33m\u001b[0m\u001b[0m\n\u001b[1;32m-> 5591\u001b[1;33m                 \u001b[1;32mraise\u001b[0m \u001b[0mKeyError\u001b[0m\u001b[1;33m(\u001b[0m\u001b[1;34mf\"{labels[mask]} not found in axis\"\u001b[0m\u001b[1;33m)\u001b[0m\u001b[1;33m\u001b[0m\u001b[1;33m\u001b[0m\u001b[0m\n\u001b[0m\u001b[0;32m   5592\u001b[0m             \u001b[0mindexer\u001b[0m \u001b[1;33m=\u001b[0m \u001b[0mindexer\u001b[0m\u001b[1;33m[\u001b[0m\u001b[1;33m~\u001b[0m\u001b[0mmask\u001b[0m\u001b[1;33m]\u001b[0m\u001b[1;33m\u001b[0m\u001b[1;33m\u001b[0m\u001b[0m\n\u001b[0;32m   5593\u001b[0m         \u001b[1;32mreturn\u001b[0m \u001b[0mself\u001b[0m\u001b[1;33m.\u001b[0m\u001b[0mdelete\u001b[0m\u001b[1;33m(\u001b[0m\u001b[0mindexer\u001b[0m\u001b[1;33m)\u001b[0m\u001b[1;33m\u001b[0m\u001b[1;33m\u001b[0m\u001b[0m\n",
      "\u001b[1;31mKeyError\u001b[0m: \"['id' 'title' 'url' 'is_wishlisted' 'avg_rating' 'avg_rating_recent'\\n 'discount_price__currency' 'discount_price__price_string'\\n 'price_detail__currency' 'price_detail__price_string'] not found in axis\""
     ]
    }
   ],
   "source": [
    "columns_to_be_removed = ['id', 'title', 'url', 'is_wishlisted', 'avg_rating', 'avg_rating_recent',\n",
    "                    'discount_price__currency', 'discount_price__price_string',\n",
    "                   'price_detail__currency', 'price_detail__price_string']\n",
    "X_train = X_train.drop(columns=columns_to_be_removed)\n",
    "X_valid = X_valid.drop(columns=columns_to_be_removed)\n",
    "X_test = X_test.drop(columns=columns_to_be_removed)"
   ]
  },
  {
   "cell_type": "markdown",
   "metadata": {},
   "source": [
    "Setting the missing values"
   ]
  },
  {
   "cell_type": "code",
   "execution_count": 72,
   "metadata": {},
   "outputs": [],
   "source": [
    "# train\n",
    "free_courses_idx_train = X_train['is_paid'] == False\n",
    "X_train.loc[free_courses_idx_train, ['price_detail__amount', 'discount_price__amount']] = 0\n",
    "\n",
    "# valid\n",
    "free_courses_idx_valid = X_valid['is_paid'] == False\n",
    "X_valid.loc[free_courses_idx_valid, ['price_detail__amount', 'discount_price__amount']] = 0\n",
    "\n",
    "# test\n",
    "free_courses_idx_test = X_test['is_paid'] == False\n",
    "X_test.loc[free_courses_idx_test, ['price_detail__amount', 'discount_price__amount']] = 0"
   ]
  },
  {
   "cell_type": "code",
   "execution_count": 76,
   "metadata": {},
   "outputs": [
    {
     "data": {
      "text/plain": [
       "0        True\n",
       "1       False\n",
       "2       False\n",
       "3       False\n",
       "4       False\n",
       "        ...  \n",
       "4565    False\n",
       "4566    False\n",
       "4567    False\n",
       "4568    False\n",
       "4569    False\n",
       "Name: discount_price__amount, Length: 4570, dtype: bool"
      ]
     },
     "execution_count": 76,
     "metadata": {},
     "output_type": "execute_result"
    }
   ],
   "source": [
    "never_discounted_courses_test "
   ]
  },
  {
   "cell_type": "code",
   "execution_count": 77,
   "metadata": {},
   "outputs": [],
   "source": [
    "# train\n",
    "never_discounted_courses_train = X_train['discount_price__amount'].isna()\n",
    "X_train.loc[never_discounted_courses_train, 'discount_price__amount'] = X_train.loc[never_discounted_courses_train, 'price_detail__amount']\n",
    "\n",
    "# valid\n",
    "never_discounted_courses_valid = X_valid['discount_price__amount'].isna()\n",
    "X_valid.loc[never_discounted_courses_valid, 'discount_price__amount'] = X_valid.loc[never_discounted_courses_valid, 'price_detail__amount']\n",
    "\n",
    "# test\n",
    "never_discounted_courses_test = X_test['discount_price__amount'].isna()\n",
    "X_test.loc[never_discounted_courses_test, 'discount_price__amount'] = X_test.loc[never_discounted_courses_test, 'price_detail__amount']"
   ]
  },
  {
   "cell_type": "code",
   "execution_count": 78,
   "metadata": {},
   "outputs": [
    {
     "data": {
      "text/plain": [
       "is_paid                         False\n",
       "rating                          False\n",
       "num_reviews                     False\n",
       "num_published_lectures          False\n",
       "num_published_practice_tests    False\n",
       "created                         False\n",
       "published_time                  False\n",
       "discount_price__amount          False\n",
       "price_detail__amount            False\n",
       "created_int                     False\n",
       "published_time_int              False\n",
       "is_beginner                     False\n",
       "is_advanced                     False\n",
       "days_since_last_published       False\n",
       "dtype: bool"
      ]
     },
     "execution_count": 78,
     "metadata": {},
     "output_type": "execute_result"
    }
   ],
   "source": [
    "X_train.isna().any()"
   ]
  },
  {
   "cell_type": "markdown",
   "metadata": {},
   "source": [
    "Encoding the date column"
   ]
  },
  {
   "cell_type": "code",
   "execution_count": 79,
   "metadata": {},
   "outputs": [],
   "source": [
    "# train\n",
    "X_train['pub_year'] = X_train['published_time'].dt.year\n",
    "X_train['created_year'] = X_train['created'].dt.year\n",
    "X_train['pub_month'] = X_train['published_time'].dt.month\n",
    "X_train['created_month'] = X_train['created'].dt.month\n",
    "\n",
    "# valid\n",
    "X_valid['pub_year'] = X_valid['published_time'].dt.year\n",
    "X_valid['created_year'] = X_valid['created'].dt.year\n",
    "X_valid['pub_month'] = X_valid['published_time'].dt.month\n",
    "X_valid['created_month'] = X_valid['created'].dt.month\n",
    "\n",
    "# test\n",
    "X_test['pub_year'] = X_test['published_time'].dt.year\n",
    "X_test['created_year'] = X_test['created'].dt.year\n",
    "X_test['pub_month'] = X_test['published_time'].dt.month\n",
    "X_test['created_month'] = X_test['created'].dt.month"
   ]
  },
  {
   "cell_type": "code",
   "execution_count": 80,
   "metadata": {},
   "outputs": [],
   "source": [
    "# Removing the original date columns\n",
    "\n",
    "X_train = X_train.drop(columns=['created', 'published_time'])\n",
    "X_valid = X_valid.drop(columns=['created', 'published_time'])\n",
    "X_test = X_test.drop(columns=['created', 'published_time'])"
   ]
  },
  {
   "cell_type": "code",
   "execution_count": 81,
   "metadata": {},
   "outputs": [
    {
     "name": "stdout",
     "output_type": "stream",
     "text": [
      "<class 'pandas.core.frame.DataFrame'>\n",
      "Int64Index: 12248 entries, 10289 to 11128\n",
      "Data columns (total 16 columns):\n",
      " #   Column                        Non-Null Count  Dtype  \n",
      "---  ------                        --------------  -----  \n",
      " 0   is_paid                       12248 non-null  bool   \n",
      " 1   rating                        12248 non-null  float64\n",
      " 2   num_reviews                   12248 non-null  int64  \n",
      " 3   num_published_lectures        12248 non-null  int64  \n",
      " 4   num_published_practice_tests  12248 non-null  int64  \n",
      " 5   discount_price__amount        12248 non-null  float64\n",
      " 6   price_detail__amount          12248 non-null  float64\n",
      " 7   created_int                   12248 non-null  int64  \n",
      " 8   published_time_int            12248 non-null  int64  \n",
      " 9   is_beginner                   12248 non-null  bool   \n",
      " 10  is_advanced                   12248 non-null  bool   \n",
      " 11  days_since_last_published     12248 non-null  int64  \n",
      " 12  pub_year                      12248 non-null  int64  \n",
      " 13  created_year                  12248 non-null  int64  \n",
      " 14  pub_month                     12248 non-null  int64  \n",
      " 15  created_month                 12248 non-null  int64  \n",
      "dtypes: bool(3), float64(3), int64(10)\n",
      "memory usage: 1.3 MB\n"
     ]
    }
   ],
   "source": [
    "X_train.info()"
   ]
  },
  {
   "cell_type": "markdown",
   "metadata": {},
   "source": [
    "Encoding the boolean columns"
   ]
  },
  {
   "cell_type": "code",
   "execution_count": 82,
   "metadata": {},
   "outputs": [],
   "source": [
    "# train\n",
    "X_train['is_paid'] = X_train['is_paid'].astype(int)\n",
    "X_train['is_beginner'] = X_train['is_beginner'].astype(int)\n",
    "X_train['is_advanced'] = X_train['is_advanced'].astype(int)\n",
    "\n",
    "# valid\n",
    "X_valid['is_paid'] = X_valid['is_paid'].astype(int)\n",
    "X_valid['is_beginner'] = X_valid['is_beginner'].astype(int)\n",
    "X_valid['is_advanced'] = X_valid['is_advanced'].astype(int)\n",
    "\n",
    "# test\n",
    "X_test['is_paid'] = X_test['is_paid'].astype(int)\n",
    "X_test['is_beginner'] = X_test['is_beginner'].astype(int)\n",
    "X_test['is_advanced'] = X_test['is_advanced'].astype(int)"
   ]
  },
  {
   "cell_type": "markdown",
   "metadata": {},
   "source": [
    "### PCA"
   ]
  },
  {
   "cell_type": "code",
   "execution_count": 62,
   "metadata": {},
   "outputs": [],
   "source": [
    "from sklearn.decomposition import PCA\n",
    "\n",
    "pca = PCA(n_components=5)"
   ]
  },
  {
   "cell_type": "code",
   "execution_count": 83,
   "metadata": {},
   "outputs": [],
   "source": [
    "rest = pca.fit(X_train)"
   ]
  },
  {
   "cell_type": "code",
   "execution_count": 87,
   "metadata": {},
   "outputs": [
    {
     "data": {
      "text/plain": [
       "<BarContainer object of 5 artists>"
      ]
     },
     "execution_count": 87,
     "metadata": {},
     "output_type": "execute_result"
    },
    {
     "data": {
      "image/png": "[encoded data removed]",
      "text/plain": [
       "<Figure size 432x288 with 1 Axes>"
      ]
     },
     "metadata": {
      "needs_background": "light"
     },
     "output_type": "display_data"
    }
   ],
   "source": [
    "plt.bar(range(1,6),pca.explained_variance_ratio_)"
   ]
  },
  {
   "cell_type": "code",
   "execution_count": 108,
   "metadata": {},
   "outputs": [
    {
     "data": {
      "text/plain": [
       "0.9901369277442096"
      ]
     },
     "execution_count": 108,
     "metadata": {},
     "output_type": "execute_result"
    }
   ],
   "source": [
    "pca.explained_variance_ratio_[0]"
   ]
  },
  {
   "cell_type": "code",
   "execution_count": 107,
   "metadata": {},
   "outputs": [
    {
     "name": "stdout",
     "output_type": "stream",
     "text": [
      "0.99 % of variance explained only by the first PC \n"
     ]
    }
   ],
   "source": [
    "print(f'{np.round(pca.explained_variance_ratio_[0],2)} % of variance explained only by the first PC ')"
   ]
  },
  {
   "cell_type": "code",
   "execution_count": 102,
   "metadata": {},
   "outputs": [
    {
     "data": {
      "text/plain": [
       "([0, 1, 2, 3, 4, 5, 6, 7, 8, 9, 10, 11, 12, 13, 14, 15],\n",
       " [Text(0, 0, ''),\n",
       "  Text(0, 0, ''),\n",
       "  Text(0, 0, ''),\n",
       "  Text(0, 0, ''),\n",
       "  Text(0, 0, ''),\n",
       "  Text(0, 0, ''),\n",
       "  Text(0, 0, ''),\n",
       "  Text(0, 0, ''),\n",
       "  Text(0, 0, ''),\n",
       "  Text(0, 0, ''),\n",
       "  Text(0, 0, ''),\n",
       "  Text(0, 0, ''),\n",
       "  Text(0, 0, ''),\n",
       "  Text(0, 0, ''),\n",
       "  Text(0, 0, ''),\n",
       "  Text(0, 0, '')])"
      ]
     },
     "execution_count": 102,
     "metadata": {},
     "output_type": "execute_result"
    },
    {
     "data": {
      "image/png": "[encoded data removed]",
      "text/plain": [
       "<Figure size 432x288 with 1 Axes>"
      ]
     },
     "metadata": {
      "needs_background": "light"
     },
     "output_type": "display_data"
    }
   ],
   "source": [
    "plt.bar(X_train.columns, abs(pca.components_[0]))\n",
    "plt.xticks(rotation=90)"
   ]
  },
  {
   "cell_type": "markdown",
   "metadata": {},
   "source": [
    "### Establishing a baseline"
   ]
  },
  {
   "cell_type": "code",
   "execution_count": null,
   "metadata": {},
   "outputs": [],
   "source": []
  },
  {
   "cell_type": "markdown",
   "metadata": {},
   "source": [
    "### Model selection"
   ]
  },
  {
   "cell_type": "markdown",
   "metadata": {},
   "source": [
    "### Hyperparameter tuning"
   ]
  },
  {
   "cell_type": "markdown",
   "metadata": {},
   "source": [
    "### Final model training"
   ]
  },
  {
   "cell_type": "markdown",
   "metadata": {},
   "source": [
    "### Model evaluation"
   ]
  },
  {
   "cell_type": "markdown",
   "metadata": {},
   "source": [
    "## Results discussion / analysis"
   ]
  }
 ],
 "metadata": {
  "colab": {
   "collapsed_sections": [
    "Tb6EW9gmIBMz",
    "EkfjlBDHHpIf",
    "EnFp8K7CHOtX",
    "zj4m42Ca7yne",
    "b52Qny3v73Gv",
    "61t6DJuTANa5",
    "fRu9n1QqDZcw"
   ],
   "provenance": [],
   "toc_visible": true
  },
  "kernelspec": {
   "display_name": "Python 3",
   "language": "python",
   "name": "python3"
  },
  "language_info": {
   "codemirror_mode": {
    "name": "ipython",
    "version": 3
   },
   "file_extension": ".py",
   "mimetype": "text/x-python",
   "name": "python",
   "nbconvert_exporter": "python",
   "pygments_lexer": "ipython3",
   "version": "3.8.8"
  }
 },
 "nbformat": 4,
 "nbformat_minor": 1
}
